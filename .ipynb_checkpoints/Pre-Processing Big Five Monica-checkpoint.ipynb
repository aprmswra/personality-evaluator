{
 "cells": [
  {
   "cell_type": "code",
   "execution_count": 1,
   "id": "bec7631c",
   "metadata": {},
   "outputs": [
    {
     "name": "stdout",
     "output_type": "stream",
     "text": [
      "Defaulting to user installation because normal site-packages is not writeable\n",
      "Requirement already satisfied: nltk in c:\\programdata\\anaconda3\\lib\\site-packages (3.7)\n",
      "Requirement already satisfied: click in c:\\programdata\\anaconda3\\lib\\site-packages (from nltk) (8.0.4)\n",
      "Requirement already satisfied: joblib in c:\\programdata\\anaconda3\\lib\\site-packages (from nltk) (1.1.0)\n",
      "Requirement already satisfied: regex>=2021.8.3 in c:\\programdata\\anaconda3\\lib\\site-packages (from nltk) (2022.7.9)\n",
      "Requirement already satisfied: tqdm in c:\\programdata\\anaconda3\\lib\\site-packages (from nltk) (4.64.1)\n",
      "Requirement already satisfied: colorama in c:\\programdata\\anaconda3\\lib\\site-packages (from click->nltk) (0.4.5)\n",
      "Note: you may need to restart the kernel to use updated packages.\n"
     ]
    }
   ],
   "source": [
    "pip install nltk"
   ]
  },
  {
   "cell_type": "code",
   "execution_count": 7,
   "id": "d566abad",
   "metadata": {},
   "outputs": [
    {
     "name": "stdout",
     "output_type": "stream",
     "text": [
      "Defaulting to user installation because normal site-packages is not writeable\n",
      "Requirement already satisfied: pyenchant in c:\\users\\user\\appdata\\roaming\\python\\python39\\site-packages (3.2.2)\n",
      "Note: you may need to restart the kernel to use updated packages.\n"
     ]
    }
   ],
   "source": [
    "pip install pyenchant"
   ]
  },
  {
   "cell_type": "code",
   "execution_count": 9,
   "id": "4b5746ad",
   "metadata": {},
   "outputs": [],
   "source": [
    "import enchant"
   ]
  },
  {
   "cell_type": "code",
   "execution_count": 10,
   "id": "74567a53",
   "metadata": {},
   "outputs": [
    {
     "name": "stdout",
     "output_type": "stream",
     "text": [
      "Defaulting to user installation because normal site-packages is not writeable\n",
      "Note: you may need to restart the kernel to use updated packages.\n"
     ]
    },
    {
     "name": "stderr",
     "output_type": "stream",
     "text": [
      "ERROR: Could not find a version that satisfies the requirement os (from versions: none)\n",
      "ERROR: No matching distribution found for os\n"
     ]
    }
   ],
   "source": [
    "pip install os"
   ]
  },
  {
   "cell_type": "code",
   "execution_count": 11,
   "id": "164f1175",
   "metadata": {},
   "outputs": [
    {
     "name": "stdout",
     "output_type": "stream",
     "text": [
      "Defaulting to user installation because normal site-packages is not writeable\n",
      "Requirement already satisfied: tweet-preprocessor in c:\\users\\user\\appdata\\roaming\\python\\python39\\site-packages (0.6.0)\n",
      "Note: you may need to restart the kernel to use updated packages.\n"
     ]
    }
   ],
   "source": [
    "pip install tweet-preprocessor"
   ]
  },
  {
   "cell_type": "code",
   "execution_count": 12,
   "id": "cb00eec7",
   "metadata": {},
   "outputs": [
    {
     "name": "stdout",
     "output_type": "stream",
     "text": [
      "Defaulting to user installation because normal site-packages is not writeable\n",
      "Requirement already satisfied: Sastrawi in c:\\users\\user\\appdata\\roaming\\python\\python39\\site-packages (1.0.1)\n",
      "Note: you may need to restart the kernel to use updated packages.\n"
     ]
    }
   ],
   "source": [
    "pip install Sastrawi"
   ]
  },
  {
   "cell_type": "code",
   "execution_count": 16,
   "id": "07f46f7b",
   "metadata": {},
   "outputs": [
    {
     "name": "stdout",
     "output_type": "stream",
     "text": [
      "Defaulting to user installation because normal site-packages is not writeable\n",
      "Collecting pip==21.0\n",
      "  Downloading pip-21.0-py3-none-any.whl (1.5 MB)\n",
      "     ---------------------------------------- 1.5/1.5 MB 2.4 MB/s eta 0:00:00\n",
      "Installing collected packages: pip\n",
      "Successfully installed pip-21.0\n",
      "Note: you may need to restart the kernel to use updated packages.\n"
     ]
    },
    {
     "name": "stderr",
     "output_type": "stream",
     "text": [
      "  WARNING: The scripts pip.exe, pip3.9.exe and pip3.exe are installed in 'C:\\Users\\User\\AppData\\Roaming\\Python\\Python39\\Scripts' which is not on PATH.\n",
      "  Consider adding this directory to PATH or, if you prefer to suppress this warning, use --no-warn-script-location.\n"
     ]
    }
   ],
   "source": [
    "pip install pip==21.0"
   ]
  },
  {
   "cell_type": "code",
   "execution_count": 17,
   "id": "6ce0231d",
   "metadata": {},
   "outputs": [
    {
     "name": "stdout",
     "output_type": "stream",
     "text": [
      "Defaulting to user installation because normal site-packages is not writeable\n",
      "Collecting goslate\n",
      "  Using cached goslate-1.5.4.tar.gz (14 kB)\n",
      "Collecting futures\n",
      "  Using cached futures-3.0.5.tar.gz (25 kB)\n",
      "  Downloading futures-3.0.4.tar.gz (25 kB)\n",
      "  Downloading futures-3.0.3.tar.gz (24 kB)\n",
      "  Downloading futures-3.0.2.tar.gz (24 kB)\n",
      "  Downloading futures-3.0.1.tar.gz (24 kB)\n",
      "  Downloading futures-3.0.0.tar.gz (24 kB)\n",
      "  Downloading futures-2.2.0-py2.py3-none-any.whl (16 kB)\n",
      "Building wheels for collected packages: goslate\n",
      "  Building wheel for goslate (setup.py): started\n",
      "  Building wheel for goslate (setup.py): finished with status 'done'\n",
      "  Created wheel for goslate: filename=goslate-1.5.4-py3-none-any.whl size=11578 sha256=67bdfe56ad2dff2638368a4945f79ccf85bf59c26988124346514f9df0a2c726\n",
      "  Stored in directory: c:\\users\\user\\appdata\\local\\pip\\cache\\wheels\\ee\\5c\\9a\\23d357c94b883bb9b9928aa61fa98641ac1635d5df3dd4dfef\n",
      "Successfully built goslate\n",
      "Installing collected packages: futures, goslate\n",
      "Successfully installed futures-2.2.0 goslate-1.5.4\n",
      "Note: you may need to restart the kernel to use updated packages.\n"
     ]
    },
    {
     "name": "stderr",
     "output_type": "stream",
     "text": [
      "    ERROR: Command errored out with exit status 1:\n",
      "     command: 'C:\\ProgramData\\Anaconda3\\python.exe' -c 'import sys, setuptools, tokenize; sys.argv[0] = '\"'\"'C:\\\\Users\\\\User\\\\AppData\\\\Local\\\\Temp\\\\pip-install-ziwk88ef\\\\futures_a6056b2f8ef641259f0ce602c7dfbb05\\\\setup.py'\"'\"'; __file__='\"'\"'C:\\\\Users\\\\User\\\\AppData\\\\Local\\\\Temp\\\\pip-install-ziwk88ef\\\\futures_a6056b2f8ef641259f0ce602c7dfbb05\\\\setup.py'\"'\"';f=getattr(tokenize, '\"'\"'open'\"'\"', open)(__file__);code=f.read().replace('\"'\"'\\r\\n'\"'\"', '\"'\"'\\n'\"'\"');f.close();exec(compile(code, __file__, '\"'\"'exec'\"'\"'))' egg_info --egg-base 'C:\\Users\\User\\AppData\\Local\\Temp\\pip-pip-egg-info-g73g8vjr'\n",
      "         cwd: C:\\Users\\User\\AppData\\Local\\Temp\\pip-install-ziwk88ef\\futures_a6056b2f8ef641259f0ce602c7dfbb05\\\n",
      "    Complete output (26 lines):\n",
      "    Traceback (most recent call last):\n",
      "      File \"<string>\", line 1, in <module>\n",
      "      File \"C:\\ProgramData\\Anaconda3\\lib\\site-packages\\setuptools\\__init__.py\", line 189, in <module>\n",
      "        monkey.patch_all()\n",
      "      File \"C:\\ProgramData\\Anaconda3\\lib\\site-packages\\setuptools\\monkey.py\", line 99, in patch_all\n",
      "        patch_for_msvc_specialized_compiler()\n",
      "      File \"C:\\ProgramData\\Anaconda3\\lib\\site-packages\\setuptools\\monkey.py\", line 169, in patch_for_msvc_specialized_compiler\n",
      "        patch_func(*msvc14('_get_vc_env'))\n",
      "      File \"C:\\ProgramData\\Anaconda3\\lib\\site-packages\\setuptools\\monkey.py\", line 149, in patch_params\n",
      "        mod = import_module(mod_name)\n",
      "      File \"C:\\ProgramData\\Anaconda3\\lib\\importlib\\__init__.py\", line 127, in import_module\n",
      "        return _bootstrap._gcd_import(name[level:], package, level)\n",
      "      File \"C:\\ProgramData\\Anaconda3\\lib\\site-packages\\setuptools\\_distutils\\_msvccompiler.py\", line 20, in <module>\n",
      "        import unittest.mock\n",
      "      File \"C:\\ProgramData\\Anaconda3\\lib\\unittest\\mock.py\", line 26, in <module>\n",
      "        import asyncio\n",
      "      File \"C:\\ProgramData\\Anaconda3\\lib\\asyncio\\__init__.py\", line 8, in <module>\n",
      "        from .base_events import *\n",
      "      File \"C:\\ProgramData\\Anaconda3\\lib\\asyncio\\base_events.py\", line 18, in <module>\n",
      "        import concurrent.futures\n",
      "      File \"C:\\Users\\User\\AppData\\Local\\Temp\\pip-install-ziwk88ef\\futures_a6056b2f8ef641259f0ce602c7dfbb05\\concurrent\\futures\\__init__.py\", line 8, in <module>\n",
      "        from concurrent.futures._base import (FIRST_COMPLETED,\n",
      "      File \"C:\\Users\\User\\AppData\\Local\\Temp\\pip-install-ziwk88ef\\futures_a6056b2f8ef641259f0ce602c7dfbb05\\concurrent\\futures\\_base.py\", line 357\n",
      "        raise type(self._exception), self._exception, self._traceback\n",
      "                                   ^\n",
      "    SyntaxError: invalid syntax\n",
      "    ----------------------------------------\n",
      "WARNING: Discarding https://files.pythonhosted.org/packages/55/db/97c1ca37edab586a1ae03d6892b6633d8eaa23b23ac40c7e5bbc55423c78/futures-3.0.5.tar.gz#sha256=0542525145d5afc984c88f914a0c85c77527f65946617edb5274f72406f981df (from https://pypi.org/simple/futures/). Command errored out with exit status 1: python setup.py egg_info Check the logs for full command output.\n",
      "    ERROR: Command errored out with exit status 1:\n",
      "     command: 'C:\\ProgramData\\Anaconda3\\python.exe' -c 'import sys, setuptools, tokenize; sys.argv[0] = '\"'\"'C:\\\\Users\\\\User\\\\AppData\\\\Local\\\\Temp\\\\pip-install-ziwk88ef\\\\futures_a92f586e7c0647a081358c1612bfe4ec\\\\setup.py'\"'\"'; __file__='\"'\"'C:\\\\Users\\\\User\\\\AppData\\\\Local\\\\Temp\\\\pip-install-ziwk88ef\\\\futures_a92f586e7c0647a081358c1612bfe4ec\\\\setup.py'\"'\"';f=getattr(tokenize, '\"'\"'open'\"'\"', open)(__file__);code=f.read().replace('\"'\"'\\r\\n'\"'\"', '\"'\"'\\n'\"'\"');f.close();exec(compile(code, __file__, '\"'\"'exec'\"'\"'))' egg_info --egg-base 'C:\\Users\\User\\AppData\\Local\\Temp\\pip-pip-egg-info-2qgmq5_y'\n",
      "         cwd: C:\\Users\\User\\AppData\\Local\\Temp\\pip-install-ziwk88ef\\futures_a92f586e7c0647a081358c1612bfe4ec\\\n",
      "    Complete output (26 lines):\n",
      "    Traceback (most recent call last):\n",
      "      File \"<string>\", line 1, in <module>\n",
      "      File \"C:\\ProgramData\\Anaconda3\\lib\\site-packages\\setuptools\\__init__.py\", line 189, in <module>\n",
      "        monkey.patch_all()\n",
      "      File \"C:\\ProgramData\\Anaconda3\\lib\\site-packages\\setuptools\\monkey.py\", line 99, in patch_all\n",
      "        patch_for_msvc_specialized_compiler()\n",
      "      File \"C:\\ProgramData\\Anaconda3\\lib\\site-packages\\setuptools\\monkey.py\", line 169, in patch_for_msvc_specialized_compiler\n",
      "        patch_func(*msvc14('_get_vc_env'))\n",
      "      File \"C:\\ProgramData\\Anaconda3\\lib\\site-packages\\setuptools\\monkey.py\", line 149, in patch_params\n",
      "        mod = import_module(mod_name)\n",
      "      File \"C:\\ProgramData\\Anaconda3\\lib\\importlib\\__init__.py\", line 127, in import_module\n",
      "        return _bootstrap._gcd_import(name[level:], package, level)\n",
      "      File \"C:\\ProgramData\\Anaconda3\\lib\\site-packages\\setuptools\\_distutils\\_msvccompiler.py\", line 20, in <module>\n",
      "        import unittest.mock\n",
      "      File \"C:\\ProgramData\\Anaconda3\\lib\\unittest\\mock.py\", line 26, in <module>\n",
      "        import asyncio\n",
      "      File \"C:\\ProgramData\\Anaconda3\\lib\\asyncio\\__init__.py\", line 8, in <module>\n",
      "        from .base_events import *\n",
      "      File \"C:\\ProgramData\\Anaconda3\\lib\\asyncio\\base_events.py\", line 18, in <module>\n",
      "        import concurrent.futures\n",
      "      File \"C:\\Users\\User\\AppData\\Local\\Temp\\pip-install-ziwk88ef\\futures_a92f586e7c0647a081358c1612bfe4ec\\concurrent\\futures\\__init__.py\", line 8, in <module>\n",
      "        from concurrent.futures._base import (FIRST_COMPLETED,\n",
      "      File \"C:\\Users\\User\\AppData\\Local\\Temp\\pip-install-ziwk88ef\\futures_a92f586e7c0647a081358c1612bfe4ec\\concurrent\\futures\\_base.py\", line 357\n",
      "        raise type(self._exception), self._exception, self._traceback\n",
      "                                   ^\n",
      "    SyntaxError: invalid syntax\n",
      "    ----------------------------------------\n",
      "WARNING: Discarding https://files.pythonhosted.org/packages/8d/73/b5fff618482bc06c9711e7cdc0d5d7eb1904d35898f48f2d7f9696b08bef/futures-3.0.4.tar.gz#sha256=19485d83f7bd2151c0aeaf88fbba3ee50dadfb222ffc3b66a344ef4952b782a3 (from https://pypi.org/simple/futures/). Command errored out with exit status 1: python setup.py egg_info Check the logs for full command output.\n",
      "    ERROR: Command errored out with exit status 1:\n",
      "     command: 'C:\\ProgramData\\Anaconda3\\python.exe' -c 'import sys, setuptools, tokenize; sys.argv[0] = '\"'\"'C:\\\\Users\\\\User\\\\AppData\\\\Local\\\\Temp\\\\pip-install-ziwk88ef\\\\futures_855916ebec9d4c679713986cf34208b8\\\\setup.py'\"'\"'; __file__='\"'\"'C:\\\\Users\\\\User\\\\AppData\\\\Local\\\\Temp\\\\pip-install-ziwk88ef\\\\futures_855916ebec9d4c679713986cf34208b8\\\\setup.py'\"'\"';f=getattr(tokenize, '\"'\"'open'\"'\"', open)(__file__);code=f.read().replace('\"'\"'\\r\\n'\"'\"', '\"'\"'\\n'\"'\"');f.close();exec(compile(code, __file__, '\"'\"'exec'\"'\"'))' egg_info --egg-base 'C:\\Users\\User\\AppData\\Local\\Temp\\pip-pip-egg-info-molv6sl2'\n",
      "         cwd: C:\\Users\\User\\AppData\\Local\\Temp\\pip-install-ziwk88ef\\futures_855916ebec9d4c679713986cf34208b8\\\n",
      "    Complete output (26 lines):\n",
      "    Traceback (most recent call last):\n",
      "      File \"<string>\", line 1, in <module>\n",
      "      File \"C:\\ProgramData\\Anaconda3\\lib\\site-packages\\setuptools\\__init__.py\", line 189, in <module>\n",
      "        monkey.patch_all()\n",
      "      File \"C:\\ProgramData\\Anaconda3\\lib\\site-packages\\setuptools\\monkey.py\", line 99, in patch_all\n",
      "        patch_for_msvc_specialized_compiler()\n",
      "      File \"C:\\ProgramData\\Anaconda3\\lib\\site-packages\\setuptools\\monkey.py\", line 169, in patch_for_msvc_specialized_compiler\n",
      "        patch_func(*msvc14('_get_vc_env'))\n",
      "      File \"C:\\ProgramData\\Anaconda3\\lib\\site-packages\\setuptools\\monkey.py\", line 149, in patch_params\n",
      "        mod = import_module(mod_name)\n",
      "      File \"C:\\ProgramData\\Anaconda3\\lib\\importlib\\__init__.py\", line 127, in import_module\n",
      "        return _bootstrap._gcd_import(name[level:], package, level)\n",
      "      File \"C:\\ProgramData\\Anaconda3\\lib\\site-packages\\setuptools\\_distutils\\_msvccompiler.py\", line 20, in <module>\n",
      "        import unittest.mock\n",
      "      File \"C:\\ProgramData\\Anaconda3\\lib\\unittest\\mock.py\", line 26, in <module>\n",
      "        import asyncio\n",
      "      File \"C:\\ProgramData\\Anaconda3\\lib\\asyncio\\__init__.py\", line 8, in <module>\n",
      "        from .base_events import *\n",
      "      File \"C:\\ProgramData\\Anaconda3\\lib\\asyncio\\base_events.py\", line 18, in <module>\n",
      "        import concurrent.futures\n",
      "      File \"C:\\Users\\User\\AppData\\Local\\Temp\\pip-install-ziwk88ef\\futures_855916ebec9d4c679713986cf34208b8\\concurrent\\futures\\__init__.py\", line 8, in <module>\n",
      "        from concurrent.futures._base import (FIRST_COMPLETED,\n",
      "      File \"C:\\Users\\User\\AppData\\Local\\Temp\\pip-install-ziwk88ef\\futures_855916ebec9d4c679713986cf34208b8\\concurrent\\futures\\_base.py\", line 355\n",
      "        raise type(self._exception), self._exception, self._traceback\n",
      "                                   ^\n",
      "    SyntaxError: invalid syntax\n",
      "    ----------------------------------------\n",
      "WARNING: Discarding https://files.pythonhosted.org/packages/4c/dc/f9473006d4c9c52d4a4e977173fbcbfb1a8ef3a57e32e885edf994fd4a45/futures-3.0.3.tar.gz#sha256=2fe2342bb4fe8b8e217f0d21b5921cbe5408bf966d9f92025e707e881b198bed (from https://pypi.org/simple/futures/). Command errored out with exit status 1: python setup.py egg_info Check the logs for full command output.\n",
      "    ERROR: Command errored out with exit status 1:\n",
      "     command: 'C:\\ProgramData\\Anaconda3\\python.exe' -c 'import sys, setuptools, tokenize; sys.argv[0] = '\"'\"'C:\\\\Users\\\\User\\\\AppData\\\\Local\\\\Temp\\\\pip-install-ziwk88ef\\\\futures_2ac8f53026c642fdb0060ff28c9a2d90\\\\setup.py'\"'\"'; __file__='\"'\"'C:\\\\Users\\\\User\\\\AppData\\\\Local\\\\Temp\\\\pip-install-ziwk88ef\\\\futures_2ac8f53026c642fdb0060ff28c9a2d90\\\\setup.py'\"'\"';f=getattr(tokenize, '\"'\"'open'\"'\"', open)(__file__);code=f.read().replace('\"'\"'\\r\\n'\"'\"', '\"'\"'\\n'\"'\"');f.close();exec(compile(code, __file__, '\"'\"'exec'\"'\"'))' egg_info --egg-base 'C:\\Users\\User\\AppData\\Local\\Temp\\pip-pip-egg-info-sr_4_adq'\n",
      "         cwd: C:\\Users\\User\\AppData\\Local\\Temp\\pip-install-ziwk88ef\\futures_2ac8f53026c642fdb0060ff28c9a2d90\\\n",
      "    Complete output (26 lines):\n",
      "    Traceback (most recent call last):\n",
      "      File \"<string>\", line 1, in <module>\n",
      "      File \"C:\\ProgramData\\Anaconda3\\lib\\site-packages\\setuptools\\__init__.py\", line 189, in <module>\n",
      "        monkey.patch_all()\n",
      "      File \"C:\\ProgramData\\Anaconda3\\lib\\site-packages\\setuptools\\monkey.py\", line 99, in patch_all\n",
      "        patch_for_msvc_specialized_compiler()\n",
      "      File \"C:\\ProgramData\\Anaconda3\\lib\\site-packages\\setuptools\\monkey.py\", line 169, in patch_for_msvc_specialized_compiler\n",
      "        patch_func(*msvc14('_get_vc_env'))\n",
      "      File \"C:\\ProgramData\\Anaconda3\\lib\\site-packages\\setuptools\\monkey.py\", line 149, in patch_params\n",
      "        mod = import_module(mod_name)\n",
      "      File \"C:\\ProgramData\\Anaconda3\\lib\\importlib\\__init__.py\", line 127, in import_module\n",
      "        return _bootstrap._gcd_import(name[level:], package, level)\n",
      "      File \"C:\\ProgramData\\Anaconda3\\lib\\site-packages\\setuptools\\_distutils\\_msvccompiler.py\", line 20, in <module>\n",
      "        import unittest.mock\n",
      "      File \"C:\\ProgramData\\Anaconda3\\lib\\unittest\\mock.py\", line 26, in <module>\n",
      "        import asyncio\n",
      "      File \"C:\\ProgramData\\Anaconda3\\lib\\asyncio\\__init__.py\", line 8, in <module>\n",
      "        from .base_events import *\n",
      "      File \"C:\\ProgramData\\Anaconda3\\lib\\asyncio\\base_events.py\", line 18, in <module>\n",
      "        import concurrent.futures\n",
      "      File \"C:\\Users\\User\\AppData\\Local\\Temp\\pip-install-ziwk88ef\\futures_2ac8f53026c642fdb0060ff28c9a2d90\\concurrent\\futures\\__init__.py\", line 8, in <module>\n",
      "        from concurrent.futures._base import (FIRST_COMPLETED,\n",
      "      File \"C:\\Users\\User\\AppData\\Local\\Temp\\pip-install-ziwk88ef\\futures_2ac8f53026c642fdb0060ff28c9a2d90\\concurrent\\futures\\_base.py\", line 355\n",
      "        raise type(self._exception), self._exception, self._traceback\n",
      "                                   ^\n",
      "    SyntaxError: invalid syntax\n",
      "    ----------------------------------------\n",
      "WARNING: Discarding https://files.pythonhosted.org/packages/f8/e7/fc0fcbeb9193ba2d4de00b065e7fd5aecd0679e93ce95a07322b2b1434f4/futures-3.0.2.tar.gz#sha256=dc3fc91508e49e0fd2f8625f0132d16e49c80f882e7e1d565c56b0d5dfbae257 (from https://pypi.org/simple/futures/). Command errored out with exit status 1: python setup.py egg_info Check the logs for full command output.\n",
      "    ERROR: Command errored out with exit status 1:\n",
      "     command: 'C:\\ProgramData\\Anaconda3\\python.exe' -c 'import sys, setuptools, tokenize; sys.argv[0] = '\"'\"'C:\\\\Users\\\\User\\\\AppData\\\\Local\\\\Temp\\\\pip-install-ziwk88ef\\\\futures_f27a63c089564c86a0f3bb9b03eb6e89\\\\setup.py'\"'\"'; __file__='\"'\"'C:\\\\Users\\\\User\\\\AppData\\\\Local\\\\Temp\\\\pip-install-ziwk88ef\\\\futures_f27a63c089564c86a0f3bb9b03eb6e89\\\\setup.py'\"'\"';f=getattr(tokenize, '\"'\"'open'\"'\"', open)(__file__);code=f.read().replace('\"'\"'\\r\\n'\"'\"', '\"'\"'\\n'\"'\"');f.close();exec(compile(code, __file__, '\"'\"'exec'\"'\"'))' egg_info --egg-base 'C:\\Users\\User\\AppData\\Local\\Temp\\pip-pip-egg-info-gadr62if'\n",
      "         cwd: C:\\Users\\User\\AppData\\Local\\Temp\\pip-install-ziwk88ef\\futures_f27a63c089564c86a0f3bb9b03eb6e89\\\n",
      "    Complete output (26 lines):\n",
      "    Traceback (most recent call last):\n",
      "      File \"<string>\", line 1, in <module>\n",
      "      File \"C:\\ProgramData\\Anaconda3\\lib\\site-packages\\setuptools\\__init__.py\", line 189, in <module>\n",
      "        monkey.patch_all()\n",
      "      File \"C:\\ProgramData\\Anaconda3\\lib\\site-packages\\setuptools\\monkey.py\", line 99, in patch_all\n",
      "        patch_for_msvc_specialized_compiler()\n",
      "      File \"C:\\ProgramData\\Anaconda3\\lib\\site-packages\\setuptools\\monkey.py\", line 169, in patch_for_msvc_specialized_compiler\n",
      "        patch_func(*msvc14('_get_vc_env'))\n",
      "      File \"C:\\ProgramData\\Anaconda3\\lib\\site-packages\\setuptools\\monkey.py\", line 149, in patch_params\n",
      "        mod = import_module(mod_name)\n",
      "      File \"C:\\ProgramData\\Anaconda3\\lib\\importlib\\__init__.py\", line 127, in import_module\n",
      "        return _bootstrap._gcd_import(name[level:], package, level)\n",
      "      File \"C:\\ProgramData\\Anaconda3\\lib\\site-packages\\setuptools\\_distutils\\_msvccompiler.py\", line 20, in <module>\n",
      "        import unittest.mock\n",
      "      File \"C:\\ProgramData\\Anaconda3\\lib\\unittest\\mock.py\", line 26, in <module>\n",
      "        import asyncio\n",
      "      File \"C:\\ProgramData\\Anaconda3\\lib\\asyncio\\__init__.py\", line 8, in <module>\n",
      "        from .base_events import *\n",
      "      File \"C:\\ProgramData\\Anaconda3\\lib\\asyncio\\base_events.py\", line 18, in <module>\n",
      "        import concurrent.futures\n",
      "      File \"C:\\Users\\User\\AppData\\Local\\Temp\\pip-install-ziwk88ef\\futures_f27a63c089564c86a0f3bb9b03eb6e89\\concurrent\\futures\\__init__.py\", line 8, in <module>\n",
      "        from concurrent.futures._base import (FIRST_COMPLETED,\n",
      "      File \"C:\\Users\\User\\AppData\\Local\\Temp\\pip-install-ziwk88ef\\futures_f27a63c089564c86a0f3bb9b03eb6e89\\concurrent\\futures\\_base.py\", line 355\n",
      "        raise type(self._exception), self._exception, self._traceback\n",
      "                                   ^\n",
      "    SyntaxError: invalid syntax\n",
      "    ----------------------------------------\n",
      "WARNING: Discarding https://files.pythonhosted.org/packages/b2/2c/6b6a57379e47031c6f52e625e0e2b8f6702a8d1f61b6e0daee391e82c187/futures-3.0.1.tar.gz#sha256=f78f2ef458639d72a625cf9c7643cf5442bb222ac11c12bcc445c6ad1cd862e2 (from https://pypi.org/simple/futures/). Command errored out with exit status 1: python setup.py egg_info Check the logs for full command output.\n",
      "    ERROR: Command errored out with exit status 1:\n",
      "     command: 'C:\\ProgramData\\Anaconda3\\python.exe' -c 'import sys, setuptools, tokenize; sys.argv[0] = '\"'\"'C:\\\\Users\\\\User\\\\AppData\\\\Local\\\\Temp\\\\pip-install-ziwk88ef\\\\futures_f86286e023a944948798cde0e1d5a9ee\\\\setup.py'\"'\"'; __file__='\"'\"'C:\\\\Users\\\\User\\\\AppData\\\\Local\\\\Temp\\\\pip-install-ziwk88ef\\\\futures_f86286e023a944948798cde0e1d5a9ee\\\\setup.py'\"'\"';f=getattr(tokenize, '\"'\"'open'\"'\"', open)(__file__);code=f.read().replace('\"'\"'\\r\\n'\"'\"', '\"'\"'\\n'\"'\"');f.close();exec(compile(code, __file__, '\"'\"'exec'\"'\"'))' egg_info --egg-base 'C:\\Users\\User\\AppData\\Local\\Temp\\pip-pip-egg-info-p3z2qv2t'\n",
      "         cwd: C:\\Users\\User\\AppData\\Local\\Temp\\pip-install-ziwk88ef\\futures_f86286e023a944948798cde0e1d5a9ee\\\n",
      "    Complete output (26 lines):\n",
      "    Traceback (most recent call last):\n",
      "      File \"<string>\", line 1, in <module>\n",
      "      File \"C:\\ProgramData\\Anaconda3\\lib\\site-packages\\setuptools\\__init__.py\", line 189, in <module>\n",
      "        monkey.patch_all()\n",
      "      File \"C:\\ProgramData\\Anaconda3\\lib\\site-packages\\setuptools\\monkey.py\", line 99, in patch_all\n",
      "        patch_for_msvc_specialized_compiler()\n",
      "      File \"C:\\ProgramData\\Anaconda3\\lib\\site-packages\\setuptools\\monkey.py\", line 169, in patch_for_msvc_specialized_compiler\n",
      "        patch_func(*msvc14('_get_vc_env'))\n",
      "      File \"C:\\ProgramData\\Anaconda3\\lib\\site-packages\\setuptools\\monkey.py\", line 149, in patch_params\n",
      "        mod = import_module(mod_name)\n",
      "      File \"C:\\ProgramData\\Anaconda3\\lib\\importlib\\__init__.py\", line 127, in import_module\n",
      "        return _bootstrap._gcd_import(name[level:], package, level)\n",
      "      File \"C:\\ProgramData\\Anaconda3\\lib\\site-packages\\setuptools\\_distutils\\_msvccompiler.py\", line 20, in <module>\n",
      "        import unittest.mock\n",
      "      File \"C:\\ProgramData\\Anaconda3\\lib\\unittest\\mock.py\", line 26, in <module>\n",
      "        import asyncio\n",
      "      File \"C:\\ProgramData\\Anaconda3\\lib\\asyncio\\__init__.py\", line 8, in <module>\n",
      "        from .base_events import *\n",
      "      File \"C:\\ProgramData\\Anaconda3\\lib\\asyncio\\base_events.py\", line 18, in <module>\n",
      "        import concurrent.futures\n",
      "      File \"C:\\Users\\User\\AppData\\Local\\Temp\\pip-install-ziwk88ef\\futures_f86286e023a944948798cde0e1d5a9ee\\concurrent\\futures\\__init__.py\", line 8, in <module>\n",
      "        from concurrent.futures._base import (FIRST_COMPLETED,\n",
      "      File \"C:\\Users\\User\\AppData\\Local\\Temp\\pip-install-ziwk88ef\\futures_f86286e023a944948798cde0e1d5a9ee\\concurrent\\futures\\_base.py\", line 354\n",
      "        raise type(self._exception), self._exception, self._traceback\n",
      "                                   ^\n",
      "    SyntaxError: invalid syntax\n",
      "    ----------------------------------------\n",
      "WARNING: Discarding https://files.pythonhosted.org/packages/ea/c9/35287369718fc05059e7a9d0d73c53745fe981010b4185b3858e7d46eff1/futures-3.0.0.tar.gz#sha256=d9cd7bb09aa01f0e4940af64c31fbd7045098b7b4354420d7838ea39e8b86ee3 (from https://pypi.org/simple/futures/). Command errored out with exit status 1: python setup.py egg_info Check the logs for full command output.\n",
      "WARNING: You are using pip version 21.0; however, version 23.0.1 is available.\n",
      "You should consider upgrading via the 'C:\\ProgramData\\Anaconda3\\python.exe -m pip install --upgrade pip' command.\n"
     ]
    }
   ],
   "source": [
    "pip install goslate"
   ]
  },
  {
   "cell_type": "code",
   "execution_count": 19,
   "id": "e4200b16",
   "metadata": {},
   "outputs": [
    {
     "name": "stdout",
     "output_type": "stream",
     "text": [
      "Defaulting to user installation because normal site-packages is not writeable\n",
      "Requirement already satisfied: pip in c:\\users\\user\\appdata\\roaming\\python\\python39\\site-packages (21.0)\n",
      "Collecting pip\n",
      "  Downloading pip-23.0.1-py3-none-any.whl (2.1 MB)\n",
      "Installing collected packages: pip\n",
      "  Attempting uninstall: pip\n",
      "    Found existing installation: pip 21.0\n",
      "    Uninstalling pip-21.0:\n",
      "      Successfully uninstalled pip-21.0\n",
      "Successfully installed pip-23.0.1\n",
      "Note: you may need to restart the kernel to use updated packages.\n"
     ]
    },
    {
     "name": "stderr",
     "output_type": "stream",
     "text": [
      "  WARNING: The scripts pip.exe, pip3.9.exe and pip3.exe are installed in 'C:\\Users\\User\\AppData\\Roaming\\Python\\Python39\\Scripts' which is not on PATH.\n",
      "  Consider adding this directory to PATH or, if you prefer to suppress this warning, use --no-warn-script-location.\n"
     ]
    }
   ],
   "source": [
    "pip install --upgrade pip"
   ]
  },
  {
   "cell_type": "code",
   "execution_count": 14,
   "id": "0c897ac1",
   "metadata": {},
   "outputs": [
    {
     "name": "stdout",
     "output_type": "stream",
     "text": [
      "Defaulting to user installation because normal site-packages is not writeable\n",
      "Requirement already satisfied: googletrans in c:\\users\\user\\appdata\\roaming\\python\\python39\\site-packages (3.0.0)\n",
      "Requirement already satisfied: httpx==0.13.3 in c:\\users\\user\\appdata\\roaming\\python\\python39\\site-packages (from googletrans) (0.13.3)\n",
      "Requirement already satisfied: chardet==3.* in c:\\users\\user\\appdata\\roaming\\python\\python39\\site-packages (from httpx==0.13.3->googletrans) (3.0.4)\n",
      "Requirement already satisfied: hstspreload in c:\\users\\user\\appdata\\roaming\\python\\python39\\site-packages (from httpx==0.13.3->googletrans) (2023.1.1)\n",
      "Requirement already satisfied: rfc3986<2,>=1.3 in c:\\users\\user\\appdata\\roaming\\python\\python39\\site-packages (from httpx==0.13.3->googletrans) (1.5.0)\n",
      "Requirement already satisfied: httpcore==0.9.* in c:\\users\\user\\appdata\\roaming\\python\\python39\\site-packages (from httpx==0.13.3->googletrans) (0.9.1)\n",
      "Requirement already satisfied: sniffio in c:\\programdata\\anaconda3\\lib\\site-packages (from httpx==0.13.3->googletrans) (1.2.0)\n",
      "Requirement already satisfied: certifi in c:\\programdata\\anaconda3\\lib\\site-packages (from httpx==0.13.3->googletrans) (2022.9.14)\n",
      "Requirement already satisfied: idna==2.* in c:\\users\\user\\appdata\\roaming\\python\\python39\\site-packages (from httpx==0.13.3->googletrans) (2.10)\n",
      "Requirement already satisfied: h2==3.* in c:\\users\\user\\appdata\\roaming\\python\\python39\\site-packages (from httpcore==0.9.*->httpx==0.13.3->googletrans) (3.2.0)\n",
      "Requirement already satisfied: h11<0.10,>=0.8 in c:\\users\\user\\appdata\\roaming\\python\\python39\\site-packages (from httpcore==0.9.*->httpx==0.13.3->googletrans) (0.9.0)\n",
      "Requirement already satisfied: hyperframe<6,>=5.2.0 in c:\\users\\user\\appdata\\roaming\\python\\python39\\site-packages (from h2==3.*->httpcore==0.9.*->httpx==0.13.3->googletrans) (5.2.0)\n",
      "Requirement already satisfied: hpack<4,>=3.0 in c:\\users\\user\\appdata\\roaming\\python\\python39\\site-packages (from h2==3.*->httpcore==0.9.*->httpx==0.13.3->googletrans) (3.0.0)\n",
      "Note: you may need to restart the kernel to use updated packages.\n"
     ]
    }
   ],
   "source": [
    "pip install googletrans"
   ]
  },
  {
   "cell_type": "code",
   "execution_count": 18,
   "id": "b78d7542",
   "metadata": {},
   "outputs": [],
   "source": [
    "import re\n",
    "import nltk\n",
    "import os.path as __path__\n",
    "import enchant\n",
    "import csv\n",
    "import goslate\n",
    "import preprocessor\n",
    "from collections import defaultdict\n",
    "from googletrans import Translator\n",
    "from Sastrawi.Stemmer.StemmerFactory import StemmerFactory\n",
    "from Sastrawi.StopWordRemover.StopWordRemoverFactory import StopWordRemoverFactory"
   ]
  },
  {
   "cell_type": "code",
   "execution_count": null,
   "id": "b6ccb433",
   "metadata": {},
   "outputs": [],
   "source": [
    "en = enchant.Dict(\"en_US\")\n",
    "idn = []\n",
    "\n",
    "with open('dictionary/wordlist-id.txt', 'r') as file:\n",
    "    for word in file:\n",
    "        idn.append(word)"
   ]
  },
  {
   "cell_type": "code",
   "execution_count": null,
   "id": "1062b3e4",
   "metadata": {},
   "outputs": [],
   "source": [
    "def casefolding(review):\n",
    "    review = review.lower()\n",
    "    return review"
   ]
  },
  {
   "cell_type": "code",
   "execution_count": null,
   "id": "0b7b30fe",
   "metadata": {},
   "outputs": [],
   "source": [
    "def filtering(review):\n",
    "    review = re.sub(r'@[^\\s]+', '', review)  # @username\n",
    "    review = re.sub(r'#([^\\s]+)', '', review)  # hashtag\n",
    "    review = re.sub(r'https:[^\\s]+', '', review)  # URL links\n",
    "    review = re.sub(r\"[.,:;+!\\-_<^/=?\\\"'\\(\\)\\d\\*]\", \" \", review)  # symbol, char\n",
    "    review = re.sub(r'[^\\x00-\\x7f]+', '', review)  # non ASCII chars\n",
    "    review = re.sub(r'\\s+', ' ', review)  # duplicate whitespace\n",
    "    return preprocessor.clean(review)"
   ]
  },
  {
   "cell_type": "code",
   "execution_count": null,
   "id": "8b5416b9",
   "metadata": {},
   "outputs": [],
   "source": [
    "def tokenizing(review):\n",
    "    token = nltk.word_tokenize(review)\n",
    "    return token"
   ]
  },
  {
   "cell_type": "code",
   "execution_count": null,
   "id": "65520c26",
   "metadata": {},
   "outputs": [],
   "source": [
    "def stemming(review):\n",
    "    factorySt = StemmerFactory()\n",
    "    stemmer = factorySt.create_stemmer()\n",
    "    review = stemmer.stem(review)\n",
    "    return review"
   ]
  },
  {
   "cell_type": "code",
   "execution_count": null,
   "id": "ff8d066b",
   "metadata": {},
   "outputs": [],
   "source": [
    "def stopWordRemoving(review):\n",
    "    factorySw = StopWordRemoverFactory()\n",
    "    stopword = factorySw.create_stop_word_remover()\n",
    "    review = stopword.remove(review)\n",
    "    return review"
   ]
  },
  {
   "cell_type": "code",
   "execution_count": null,
   "id": "f490b8e9",
   "metadata": {},
   "outputs": [],
   "source": [
    "def slangWordConverting(review):\n",
    "    slangwords = dict()\n",
    "    with open('dictionary/slangword-id.txt') as wordfile:\n",
    "        for word in wordfile:\n",
    "            word = word.split('=')\n",
    "            slangwords[word[0]] = word[1].replace('\\n', '')\n",
    "    wordsArray, fixed = review.split(' '), []\n",
    "    for word in wordsArray:\n",
    "        if word in slangwords:\n",
    "            word = slangwords[word]\n",
    "        fixed.append(word)\n",
    "        review = ' '.join(fixed)\n",
    "    return revie"
   ]
  },
  {
   "cell_type": "code",
   "execution_count": null,
   "id": "7b411b9a",
   "metadata": {},
   "outputs": [],
   "source": [
    "def characterRepeating(review):\n",
    "    pattern = re.compile(r\"(.)\\1{1,}\", re.DOTALL)\n",
    "    tempWord = ''\n",
    "    for word in review.split(' '):\n",
    "        if word != '':\n",
    "            if en.check(word):\n",
    "                tempWord += word+' '\n",
    "            elif word in idn:\n",
    "                tempWord += word+' '\n",
    "            else:\n",
    "                tempWord += pattern.sub(r\"\\1\", word) + ' '\n",
    "    return tempWord"
   ]
  },
  {
   "cell_type": "code",
   "execution_count": null,
   "id": "dafab2b6",
   "metadata": {},
   "outputs": [],
   "source": [
    "def translating(review):\n",
    "    gs = goslate.Goslate()\n",
    "    translatedText = gs.translate(review, 'id')\n",
    "    return translatedText"
   ]
  },
  {
   "cell_type": "code",
   "execution_count": null,
   "id": "61bcc517",
   "metadata": {},
   "outputs": [],
   "source": [
    "def translating2(review):\n",
    "    translator = Translator()\n",
    "    translations = translator.translate(review, dest='id')\n",
    "    return translations."
   ]
  },
  {
   "cell_type": "code",
   "execution_count": null,
   "id": "b8e047f6",
   "metadata": {},
   "outputs": [],
   "source": [
    "def getUserTweets(usertweet):\n",
    "    columns = defaultdict(list)\n",
    "    infile = __path__.join(\n",
    "        __path__.curdir, \"dataset/crawl/tweets-@\" + usertweet + \".csv\")\n",
    "    with open(infile, 'r', encoding='utf-8') as tweetfile:\n",
    "        reader = csv.DictReader(tweetfile)\n",
    "        for row in reader:\n",
    "            for (k, v) in row.items():\n",
    "                columns[k].append(v)\n",
    "    outfile = \"dataset/process/processed-tweets-@\" + usertweet + \".csv\"\n",
    "    with open(outfile, 'w') as userPreprocessed:\n",
    "        userPreprocessed.write('username,tweet')\n",
    "        userPreprocessed.write('\\n') \n",
    "        for tweet in columns['text']:\n",
    "            print('Original: '+str(preprocessor.tokenize(tweet)))\n",
    "            tweet = filtering(str(tweet))\n",
    "            tweet = casefolding(str(tweet))\n",
    "            tweet = characterRepeating(str(tweet))\n",
    "            # tweet = translating(str(tweet))\n",
    "            tweet = stemming(str(tweet))\n",
    "            tweet = stopWordRemoving(str(tweet))\n",
    "            tweet = slangWordConverting(str(tweet))\n",
    "            print('Processed: '+str(tweet) + '\\n')\n",
    "            if tweet != '':\n",
    "                userPreprocessed.write(str(usertweet)+','+str(tweet))\n",
    "                userPreprocessed.write('\\n')\n",
    "\n",
    "    print(\"\\n- writing to '\" + outfile + \"' complete.\")"
   ]
  },
  {
   "cell_type": "code",
   "execution_count": null,
   "id": "7c54db78",
   "metadata": {},
   "outputs": [],
   "source": [
    "if __name__ == '__main__':\n",
    "    users = ['achadianrani', 'almostbeyours', 'amarasyawalni', 'erickdidudidu', 'ferrafbryn', 'fridamayanti', 'ichatarina', 'jehademusa', 'laylarmdhnaa', 'lenoydew', 'liawrdhani', 'munawaroh_mona', 'nysmonworld', 'shafiraara', 'siti_sr137', '9ita7unn', '_avocada', '_chaendelier_', '_marfami', '_nilazka', '_sylvialestari', 'a2lir', 'abcdenjiii', 'adamumemo', 'adewiana14', 'adindahapsa', 'adityalinardi', 'adityandr', 'adityosusanto_', 'adlfynf', 'adorablejuneya', 'adputri_', 'afidazkyy', 'agus_trianto', 'aisyahafr', 'aiuchida', 'akhsaraa', 'akuuuberuang', 'alaaini1', 'alaniafitri', 'aldimaulana48', 'alfian_ay', 'alfinalfinn', 'alfrisadivaw', 'aliencuk', 'alifahdellaf', 'alitapuspa_', 'amalianadiene', 'amandapht', 'amhryn', 'amindwiananda', 'ana_ot', 'anakyangtangkas', 'andiniayu', 'andrisuartikaa', 'anggycaa', 'anissa_sani', 'anzjani', 'apaanmanggil', 'apdesti_', 'arangkecap', 'ardianitaap', 'ariefpopoh', 'arindyaf', 'arisetiyani12', 'arizamarine', 'arrrasseo', 'artikakristi', 'asriyahasry', 'astikhairunnisa', 'astridvivianni', 'astrifaj', 'ath_tobe', 'athayaanabila', 'attamufid', 'auliapramudya_', 'avidazr', 'awwlltl', 'ayrachma', 'azharizkita', 'azwardfauzan', 'baksopangsitnya', 'bananamilxxx', 'belfiani', 'benrskbyg', 'bestchrysalis', 'bettyindahr', 'betyratih', 'bibblegumm_', 'bintangphy', 'biyaanhaz', 'bodoamatbrou', 'borahyungg', 'brilliaflah', 'bukandove', 'bukanrohalia', 'bvdztkvlr', 'canc_ers', 'ccarenth', 'chandnidevi', 'chndooy', 'chtime__', 'chyntw_', 'cipipiw', 'citora_', 'claraang09', 'classmlild', 'copcopiaa', 'crysandh', 'dafugmbah', 'dalgonasachet', 'dannytandean', 'daranagas', 'darna17', 'dartina_', 'deliahndt', 'dellapj_', 'dennisransun', 'denokdhena', 'destaard', 'destandriyani', 'destychaniaa', 'detiaferlian', 'devia_riskaa', 'dewirossilia', 'dheaniranabila', 'dikmabelarosa', 'diniheryani', 'dippp_p', 'ditdandep', 'dsnmld', 'duwaaaay', 'dwiahkam', 'dwidys_', 'dwraoktavia', 'dyeah13', 'dzakimadhani', 'dzakyhaidar__', 'effendisgurl', 'egabetari', 'ejakulasi_', 'ekahanda', 'elidoff', 'emanggemeshin', 'erisyaeris', 'ervhans', 'esjaeruk', 'estlrsty', 'evaxevi', 'eyaaaxx', 'fadfadholic', 'fanirchm27', 'farahmhdyyh', 'febrianirevita', 'fia_lutfiazhari', 'fildzahanais', 'finaihsani', 'firda0305', 'firdahanifa_', 'firstyfelanda', 'fitriindy', 'fitrisip', 'g1tsy', 'ghias_yusuf', 'gieskalaila', 'gorjesparkle', 'gramelt', 'granweastery', 'greeniscalming', 'grestina', 'griffitpypiet', 'gthagrace', 'gustianarii', 'h3llatrash', 'haluhaluclubbb', 'hani_ristiawan', 'hapsarihn', 'hasinanr', 'hawaariyy', 'hazizaanifa', 'hermajestyrania', 'heyhestyy', 'hidadahida', 'hkawilarangg', 'hlutami', 'husnavinaa', 'hypertenshit', 'i_frankenstein', 'ibnubons', 'idrisg8', 'iffamee', 'iftitahptr', 'ikhwaaaaann', 'ilma678', 'imaashoima', 'imadamii', 'imfnia', 'indahastikas', 'inditarizky', 'indraszlaila', 'indrayyyy_', 'inesprat_', 'inkafbrn', 'innocentpep', 'intansakina28', 'introperti', 'iqbalpaz', 'ireenarum', 'isnakhairi', 'itshardys', 'ivyeol', 'januarrmdhn', 'joabaldo', 'joeniararief', 'jollajoly', 'juliandennis1', 'juliepuspita01', 'jundie_m', 'jusrambai', 'juwitasdrman', 'kalisnakal', 'kasurjalan', 'kasurlante', 'kawaipuna_', 'keiziasyf', 'kepikbesar', 'kerakteloorr', 'kharismagpri', 'khelian_ni_s', 'ki_cuu', 'kimsatgat2', 'kirannaurora', 'kodelle_', 'kokocrvnch', 'komalasari_ak', 'krisnawah', 'kucingsmanda_', 'kumanokabe_', 'ladafiq', 'lailapurnamas', 'lalenamanoban', 'latifanajla__', 'latifasyf', 'leoagung98', 'lerinarin', 'liawatii_', 'liayurh_', 'liestianoviani', 'linggaralfi', 'liputarinns', 'llakhr', 'lulufrdni', 'marisahafsyah94', 'maulanariandi', 'mautongue', 'megapsmr', 'mellamotis', 'melyst94', 'meniaclosia', 'messylusmitha', 'metinaayu_', 'micinsassae', 'miftahulilma10', 'mininoenk', 'msyitams', 'muthiaf10', 'nabilatunss', 'nadhira42', 'nadiadjibran', 'nadihng', 'nadyaulfahn', 'nailazulfanz', 'nanasambara', 'nanuazz', 'nauli_permata', 'nevienpan', 'niazmi_', 'nidakarin', 'nneninot1996', 'nopiynovi', 'normalvira', 'novia_pqr', 'novitakurniap', 'novitnurul', 'nstlstnngrm', 'nurulainiii', 'nwindaputri', 'ociirosiana', 'okkyskripsi', 'okyranda', 'oneperson01_', 'ovilsp', 'owkowkok', 'oziechonky', 'pelangikecilll', 'phoebee_ip', 'pinchipowww', 'pinochiao', 'pocagurii', 'prastikavivi', 'prialitaf', 'ptorianns', 'pujaypujilpuu', 'pujisay', 'punyauname', 'puspapradinaa', 'puten_hijau', 'puteriroro', 'putriyuniardi', 'qthrnnada', 'r_fiika', 'rafitaasr', 'rahmaarindapp', 'rahmahwanti', 'rahmatfathoni', 'rallyanta', 'ramdaneinstein', 'rdtlfiqryaj', 'readytomingie', 'rianita_sm', 'rierabcd', 'risdahlbs', 'riskaadesuryani', 'rizka_christian', 'rizkaaulia', 'rizol_rizal', 'rkhusfa', 'rkismaniar', 'rohanahrey', 'rpdelimaa', 'rvghalif', 'rzqmentari', 'saccharinande', 'salisnurk', 'salsabilabia', 'saraadaay', 'sartikadesi212', 'savirapu', 'scharrii', 'seacrabble', 'sefticare', 'sekarumn', 'selftalker', 'sfaui', 'shelfiw', 'shobronabadan', 'silmiotmiot', 'silvialucyana', 'silvihoroni', 'siti89nurjanah', 'slvdys', 'sobatqasurr', 'sora_alxean', 'stephanieayuu', 'stillyourbae', 'strybycy', 'stttopp', 'sulisprstya', 'sundalaif', 'susheetrashh', 'susiindah16', 'syifa_syifo', 't_gooners16', 't_hndr', 'tahtaallfina', 'taritahir', 'tastyducky', 'tiaraindhprmt', 'timutiimuti', 'tnrx_', 'tramadanur', 'triaisharaa', 'trisawardanis', 'ucciiill', 'ugitugitmiskoi', 'upikmera', 'ursnflwr_', 'ussiiyy', 'utho_', 'v3isvthree', 'vanillasvgar', 'viasyafiqa', 'viragutubela', 'virraaa_', 'vnyriany', 'wequte', 'wulandrshrmn', 'wydyudi_', 'yaelahir', 'yokozka', 'youcan_it', 'yovimelan', 'ysyni', 'yudkuswar', 'yulfaariza', 'yulia_danche', 'yuliawafa', 'yusrinasmarani', 'yuuta__96', 'zea_mays07']\n",
    "    \n",
    "    for user in users:\n",
    "        getUserTweets(user)"
   ]
  }
 ],
 "metadata": {
  "kernelspec": {
   "display_name": "Python 3 (ipykernel)",
   "language": "python",
   "name": "python3"
  },
  "language_info": {
   "codemirror_mode": {
    "name": "ipython",
    "version": 3
   },
   "file_extension": ".py",
   "mimetype": "text/x-python",
   "name": "python",
   "nbconvert_exporter": "python",
   "pygments_lexer": "ipython3",
   "version": "3.9.13"
  }
 },
 "nbformat": 4,
 "nbformat_minor": 5
}
