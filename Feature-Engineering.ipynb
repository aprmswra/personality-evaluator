{
 "cells": [
  {
   "cell_type": "code",
   "execution_count": 90,
   "id": "55a36f70",
   "metadata": {},
   "outputs": [],
   "source": [
    "import csv\n",
    "import pandas as pd"
   ]
  },
  {
   "cell_type": "code",
   "execution_count": 91,
   "id": "5d31f226",
   "metadata": {},
   "outputs": [],
   "source": [
    "def Gabung(username):\n",
    "    term = []\n",
    "    df_list = []\n",
    "    username_list = []\n",
    "    tweets_list = []\n",
    "    dict_s = {}\n",
    "    infile = \"PPT-09/dataset/process/processed-tweets-@\" + username + \".csv\"\n",
    "    with open(infile, 'r') as file:\n",
    "        i = 0\n",
    "        tweets = []\n",
    "        for row in file:\n",
    "            if i == 0:\n",
    "                i += 1\n",
    "                continue\n",
    "            row = row.split(',')[1]\n",
    "            row = row.split('\\n')[0]\n",
    "            tweets.append(row)\n",
    "            term = ' '.join(tweets)\n",
    "            if username \n",
    "            dict_s[username] = term\n",
    "    return dict_s\n",
    "#     outfile = \"PPT-09/dataset/weight/tfidf-tweets-@\" + username + \".csv\"\n",
    "#     with open(outfile, mode='w') as file:\n",
    "#         file.write('term,weight\\n')\n",
    "#         for i in range(len(feature_names)):\n",
    "#             file.write(str(feature_names[i])+','+str(round(denselist[0][i], 3))+'\\n')\n",
    "\n",
    "#     print(\"\\n- writing to '\" + outfile + \"' complete.\")"
   ]
  },
  {
   "cell_type": "code",
   "execution_count": 92,
   "id": "87ea7af4",
   "metadata": {},
   "outputs": [],
   "source": [
    "if __name__ == '__main__':\n",
    "    users = ['achadianrani', 'almostbeyours', 'amarasyawalni', 'erickdidudidu', 'ferrafbryn', 'fridamayanti', 'ichatarina', 'jehademusa', 'laylarmdhnaa', 'lenoydew', 'liawrdhani', 'munawaroh_mona', 'nysmonworld', 'shafiraara', 'siti_sr137', '9ita7unn', '_avocada', '_chaendelier_', '_marfami', '_nilazka', '_sylvialestari', 'a2lir', 'abcdenjiii', 'adamumemo', 'adewiana14', 'adindahapsa', 'adityalinardi', 'adityandr', 'adityosusanto_', 'adlfynf', 'adorablejuneya', 'adputri_', 'afidazkyy', 'agus_trianto', 'aisyahafr', 'aiuchida', 'akhsaraa', 'akuuuberuang', 'alaaini1', 'alaniafitri', 'aldimaulana48', 'alfian_ay', 'alfinalfinn', 'alfrisadivaw', 'aliencuk', 'alifahdellaf', 'alitapuspa_', 'amalianadiene', 'amandapht', 'amhryn', 'amindwiananda', 'ana_ot', 'anakyangtangkas', 'andiniayu', 'andrisuartikaa', 'anggycaa', 'anissa_sani', 'anzjani', 'apaanmanggil', 'apdesti_', 'arangkecap', 'ardianitaap', 'ariefpopoh', 'arindyaf', 'arisetiyani12', 'arizamarine', 'arrrasseo', 'artikakristi', 'asriyahasry', 'astikhairunnisa', 'astridvivianni', 'astrifaj', 'ath_tobe', 'athayaanabila', 'attamufid', 'auliapramudya_', 'avidazr', 'awwlltl', 'ayrachma', 'azharizkita', 'azwardfauzan', 'baksopangsitnya', 'bananamilxxx', 'belfiani', 'benrskbyg', 'bestchrysalis', 'bettyindahr', 'betyratih', 'bibblegumm_', 'bintangphy', 'biyaanhaz', 'bodoamatbrou', 'borahyungg', 'brilliaflah', 'bukandove', 'bukanrohalia', 'bvdztkvlr', 'canc_ers', 'ccarenth', 'chandnidevi', 'chndooy', 'chtime__', 'chyntw_', 'cipipiw', 'citora_', 'claraang09', 'classmlild', 'copcopiaa', 'crysandh', 'dafugmbah', 'dalgonasachet', 'dannytandean', 'daranagas', 'darna17', 'dartina_', 'deliahndt', 'dellapj_', 'dennisransun', 'denokdhena', 'destaard', 'destandriyani', 'destychaniaa', 'detiaferlian', 'devia_riskaa', 'dewirossilia', 'dheaniranabila', 'dikmabelarosa', 'diniheryani', 'dippp_p', 'ditdandep', 'dsnmld', 'duwaaaay', 'dwiahkam', 'dwidys_', 'dwraoktavia', 'dyeah13', 'dzakimadhani', 'dzakyhaidar__', 'effendisgurl', 'egabetari', 'ejakulasi_', 'ekahanda', 'elidoff', 'emanggemeshin', 'erisyaeris', 'ervhans', 'esjaeruk', 'estlrsty', 'evaxevi', 'eyaaaxx', 'fadfadholic', 'fanirchm27', 'farahmhdyyh', 'febrianirevita', 'fia_lutfiazhari', 'fildzahanais', 'finaihsani', 'firda0305', 'firdahanifa_', 'firstyfelanda', 'fitriindy', 'fitrisip', 'g1tsy', 'ghias_yusuf', 'gieskalaila', 'gorjesparkle', 'gramelt', 'granweastery', 'greeniscalming', 'grestina', 'griffitpypiet', 'gthagrace', 'gustianarii', 'h3llatrash', 'haluhaluclubbb', 'hani_ristiawan', 'hapsarihn', 'hasinanr', 'hawaariyy', 'hazizaanifa', 'hermajestyrania', 'heyhestyy', 'hidadahida', 'hkawilarangg', 'hlutami', 'husnavinaa', 'hypertenshit', 'i_frankenstein', 'ibnubons', 'idrisg8', 'iffamee', 'iftitahptr', 'ikhwaaaaann', 'ilma678', 'imaashoima', 'imadamii', 'imfnia', 'indahastikas', 'inditarizky', 'indraszlaila', 'indrayyyy_', 'inesprat_', 'inkafbrn', 'innocentpep', 'intansakina28', 'introperti', 'iqbalpaz', 'ireenarum', 'isnakhairi', 'itshardys', 'ivyeol', 'januarrmdhn', 'joabaldo', 'joeniararief', 'jollajoly', 'juliandennis1', 'juliepuspita01', 'jundie_m', 'jusrambai', 'juwitasdrman', 'kalisnakal', 'kasurjalan', 'kasurlante', 'kawaipuna_', 'keiziasyf', 'kepikbesar', 'kerakteloorr', 'kharismagpri', 'khelian_ni_s', 'ki_cuu', 'kimsatgat2', 'kirannaurora', 'kodelle_', 'kokocrvnch', 'komalasari_ak', 'krisnawah', 'kucingsmanda_', 'kumanokabe_', 'ladafiq', 'lailapurnamas', 'lalenamanoban', 'latifanajla__', 'latifasyf', 'leoagung98', 'lerinarin', 'liawatii_', 'liayurh_', 'liestianoviani', 'linggaralfi', 'liputarinns', 'llakhr', 'lulufrdni', 'marisahafsyah94', 'maulanariandi', 'mautongue', 'megapsmr', 'mellamotis', 'melyst94', 'meniaclosia', 'messylusmitha', 'metinaayu_', 'micinsassae', 'miftahulilma10', 'mininoenk', 'msyitams', 'muthiaf10', 'nabilatunss', 'nadhira42', 'nadiadjibran', 'nadihng', 'nadyaulfahn', 'nailazulfanz', 'nanasambara', 'nanuazz', 'nauli_permata', 'nevienpan', 'niazmi_', 'nidakarin', 'nneninot1996', 'nopiynovi', 'normalvira', 'novia_pqr', 'novitakurniap', 'novitnurul', 'nstlstnngrm', 'nurulainiii', 'nwindaputri', 'ociirosiana', 'okkyskripsi', 'okyranda', 'oneperson01_', 'ovilsp', 'owkowkok', 'oziechonky', 'pelangikecilll', 'phoebee_ip', 'pinchipowww', 'pinochiao', 'pocagurii', 'prastikavivi', 'prialitaf', 'ptorianns', 'pujaypujilpuu', 'pujisay', 'punyauname', 'puspapradinaa', 'puten_hijau', 'puteriroro', 'putriyuniardi', 'qthrnnada', 'r_fiika', 'rafitaasr', 'rahmaarindapp', 'rahmahwanti', 'rahmatfathoni', 'rallyanta', 'ramdaneinstein', 'rdtlfiqryaj', 'readytomingie', 'rianita_sm', 'rierabcd', 'risdahlbs', 'riskaadesuryani', 'rizka_christian', 'rizkaaulia', 'rizol_rizal', 'rkhusfa', 'rkismaniar', 'rohanahrey', 'rpdelimaa', 'rvghalif', 'rzqmentari', 'saccharinande', 'salisnurk', 'salsabilabia', 'saraadaay', 'sartikadesi212', 'savirapu', 'scharrii', 'seacrabble', 'sefticare', 'sekarumn', 'selftalker', 'sfaui', 'shelfiw', 'shobronabadan', 'silmiotmiot', 'silvialucyana', 'silvihoroni', 'siti89nurjanah', 'slvdys', 'sobatqasurr', 'sora_alxean', 'stephanieayuu', 'stillyourbae', 'strybycy', 'stttopp', 'sulisprstya', 'sundalaif', 'susheetrashh', 'susiindah16', 'syifa_syifo', 't_gooners16', 't_hndr', 'tahtaallfina', 'taritahir', 'tastyducky', 'tiaraindhprmt', 'timutiimuti', 'tnrx_', 'tramadanur', 'triaisharaa', 'trisawardanis', 'ucciiill', 'ugitugitmiskoi', 'upikmera', 'ursnflwr_', 'ussiiyy', 'utho_', 'v3isvthree', 'vanillasvgar', 'viasyafiqa', 'viragutubela', 'virraaa_', 'vnyriany', 'wequte', 'wulandrshrmn', 'wydyudi_', 'yaelahir', 'yokozka', 'youcan_it', 'yovimelan', 'ysyni', 'yudkuswar', 'yulfaariza', 'yulia_danche', 'yuliawafa', 'yusrinasmarani', 'yuuta__96', 'zea_mays07']\n",
    "\n",
    "    for user in users:\n",
    "        d = Gabung(user)"
   ]
  },
  {
   "cell_type": "code",
   "execution_count": 93,
   "id": "f0511867",
   "metadata": {},
   "outputs": [
    {
     "name": "stdout",
     "output_type": "stream",
     "text": [
      "400\n"
     ]
    }
   ],
   "source": [
    "print(len(users))"
   ]
  },
  {
   "cell_type": "code",
   "execution_count": 94,
   "id": "2901a902",
   "metadata": {},
   "outputs": [],
   "source": [
    "# if __name__ == '__main__':\n",
    "#     user = ['achadianrani', 'almostbeyours']\n",
    "#     for user in users:\n",
    "#         d = Gabung(user)"
   ]
  },
  {
   "cell_type": "code",
   "execution_count": 95,
   "id": "60b3e61f",
   "metadata": {},
   "outputs": [
    {
     "name": "stdout",
     "output_type": "stream",
     "text": [
      "{'zea_mays07': 'kenapa banyak sekali sms tawar pinjam online pinjam luka jovic saja itu juta benzema lah untung tidak plontos biasane jalan nenek tidak bis ra genah akan laris manis kuwe saudara wanita efi kalau tahun depan lepas ke antar arti antar dapat juta tawa politik unsoed sampai kapan begitu kalau saya sih setuju pindah kalau otak sama ide sudah tidak pakai apa tetap situ susah wil kampuz depan paling fisip eko sama hukum cuma kampuz blkng berapa coba terus yang depan belum akur mui jatim sholat jamah masjid jaman david vila david silva lautaro skriniar ter stegen griezman arthur vidal sergio ramos juta justru kerja di rumah tambah banyak gawean bapak tambah tambah parsel internet boros ngo temu online iya kan surate perihal pemberitahuan bongkar tidak percaya kalau belum video nya loncat saja masakan akhir ibu beliau sakit akhir mati urung temu nyanyi penting slamet maaf bapak cuma bantu arah mana lapor silah bapak lapor nomor yang lingkar nanti yang menindaklanjuti lapor bapak sekali saya minta maaf cuma omong kosong bantu sampai sini maksud buat hubung admin bukan saya tahu lokasi kan bapak nya bingung mau tanya mana makanya saya coba arah nah betul saja tidak saya replay masih nyangkut user situ mungkin bantu admin bapak nya yang mau cari sodaranya lapor disnaker bp tki misi tki kota bapak penting ada data nya misal paspor maicon in ribu dan zaneti in lb phil jones era milenial sekarang pengelolan media sosial tim humas benar perhati mulai dari konten tarik informatif juga admin ramah tahu lembaga luar salah satu ujung tombak eksistensi lembaga adalah humas nya humas nya bagus lembaga juga dapat tempat sendiri hati masyarakat tahun tahun tidak urus humas nya akhir kantor mulai peduli rasa humas penting humas bukan untuk dokumentasi upacara juga bagai branding lembaga tanggal lahir syukur bisa gaji meski langsung potong angsur tidak david aman coba tony adams bajing misi viera cf t henry super sub saudara bergkamp lombok esih jumat saudara laki ayo mancing saudara laki valent kalau saya dulu skb nya mirip seperti kerja psikotes uji toefl tempat tidak ada yang kait sama bidang yang lamar mau dong jadi rekan kerja nya admin tidak apa apa hari priyanto di bnp anda daftar bnp tki wid pernah ngalamin waktu tinggal ibu sekarang conte jadi bagus juta sudah orang perlu mangil bapak erick thohir tidak mil agar dibenerin canceli juta sama paman admin tiap pulang tidak bosan kordinasi sama mau pmi prosedural non prosedural tetap bantu dengan penuh hati pulang orang nya jemput sama keluarga kiper cadang nya siapa jadi nya handa cedera mulia berni kartu merah tawa seru itu agar cepat pulang coba kasih pete makin mantap sambal teri nasi nya hangat enak sekali gabigol musim tawa jika akhir jenazah tidak yang urus menyolatkan desa dosa semua mahir ws akhir lanjut saudara gea selling dybala untuk antar ambyar kuis nya kalau tunggu gres pensiun kelam sapa tahu ikut turnamen dulu buat ngejar poin jadi kapan bisa mulai lihat owi sampai apri utama xd admin spero che cari ano alzi il trofeo tabrak saja bayar sudah juta tuker donaruma kejut keren habis iya semoga benar baru tidak php kalau hujan deras sholat masjid tidak jalan maksud mungkin tega khilafah cina utama baik nya mes kapal nya tengelamkan sekali ibu lingkar cahaya saya baru isi parsel data sinyal lte kenapa tidak internetan jadi silat malaysia sama pencak silat nya indonesia sama sama saya unesco lingkar cahaya kpai selamat pagi tki tas nya di bungkus terus rusak bungkus nya antar seperti jadi cadang luka juta kdb tetap borja valero admin arab kapan buka ingin naik haji jay jay okocha orang kalau duduk kursi yang empuk nyaman buat ngantuk tidur buat lah kursi dpr jadi kursi yang nyaman agar yang hormat tidak mudah tidur kalau sidang yang sangkut hajat hidup rakyat yang wakil bojo loro kalau malam sudah tidak bang paling cuma tinggal yang jaga malam kalau juara total dapat berapa aman chen ayo fei minions chen panjang siwei yaqiong fukusima hirota ini buat gadis gadis cara bukti santet bagaimana bang terus hutan kalimantan rubah jadi sawit saja semua begitu maksud nya teliti belum indonesia merdeka hai mr kepiting tidak pernah setor kpi kali eh ada tulis djarum nya tidak itu masa yang audisi badminton anak steril dari kata djarum tapi kalau orang dewasa begitu kalau kpai nya seperti gin setuju pb djarum henti audisi beasiswa badminton agar kpai saja yang lanjutin komisi lindung anak indonesia kpai rombak urus kpai tandatangani petisi via kpai omong kosong beri rekomendasi kpi mana sinetron yang bikir rusak masa depan anak indonesia tapi mungkin tidak ada uang jadi malas tuker sama kevin saudara bruyne aguero cuma foto saja video logika sih kalau ambil foto saja omong kosong leceh video wuih cakep nya jadi apa yang kpai ikan harum nama indonesia dunia fasilitas latih sistem tempat sampah pb djarum ketemu latih idola legenda badminton indonesia semua belum sama pb di zona komisi lindung anak indonesia kpai audisi pb djarum tandatangani petisi via buat petisi bubar saja yayasan sama kpai nya habis pb djarum tarik semua atlet nya dari pelatnas terus indonesia tidak dapat emas dari olimpiade mati tidak itu buat vidic kiye nyanyi bojone gawa rubricon kan saudara laki biasa alur nya seperti begitu terus menang set kalah set set kalah seperti tidak ada ajar nya mungkin fisik nya latih agar kuat sampai set cara mai mungkin loh yah yang sering perhati jorji paham tawa sanchez dikerjain pintus telepon nya masuk ember mati jadi ingin lihat lapor uang bpjs bagaimana malas banyak drama mingat sana belfodil datang dan ikut latih bareng tim cuma mungkin mental nya belum bagus jadi tidak permanen semoga benar jadi el nino bukan nina tidur iya gari kembangna sitik cara cerita wis apik apa maning saudara wanita joko anwar diwei bumbu ngeri kasih lah juve tidak apa apa tidak dituker dybala tuker pjanic saja daripada buat rusuh antar terus tidak utama ketemu antar geser sampai cedera tahun tempo tidak tarung kurang cepat titik apa yah penasaran sama musim lalu tidak lolos kalau di ulang musim optimis lolos barca tothenham antar lokomotiv tidak chan goh tetap saja lemah semoga telepon kali bakule lancang lanjut dybala sekali kali lanjut dzeko terus dybala insigne damai dengan diri sendiri suwun malu sudah kalah moise kean baik pinamonti bastoni tidak yah mana bisa dalberto carlos jadi bek kiri baik musim depan anak baru admin tidak usah tanggap benar bang dulu waktu antar lawan juve taribo west dikerjain sama edgar davids terus tidak pernah dapat pelangaran dari wasit akhir buat cinta sama antar kiye nyanyi njagong saudara wanita kursi apa nyanyi saudara wanita tribun masuk saja sn nusa kambang kelam kalau buat baru tubuh eh setuju sial tapi esih pantas dadi mahasiswa baru tuku kiper asing jol angkut semua cium saja henti ngomongnya semoga ahok omong kosong jadi ketua umum pdip agar bersihin partai motor saudara wanita nya saudara makanya saudara wanita nya nang motor gadis nya kali saya penasaran cerita awal si tumpang naik yang seperti gin biasa besok umum latih baru yang penting lulus waktu yang tepat masa hasil pengeledahan ungkap publik kan dari lidi ungkap di adi antar tidak tarik rekrut memphis depay tidak ada yang yang omong kosong wawancara ini ranga iya iya iya terimakasih yang untung atletiko tajam morata eko baru niat kali basi lagu lama mau buat apa percuma percaya masyarakat indonesia tidak kecuali orang mundur semua ganti baru sini saya dukung serah bapak saja kan bapak ketua cie akhir tidak belakang layar klub indonesia belum nerapin jual beli utama ya admin kan lumayan buat klub tanya pakai bahasa sunda jawab pakai bahasa saudara laki terus begitu sampai bahasa zona indonesia habis tidak sabar saksi tampil panggung penuh bintang bagaimana kalian minta modal madrid anda valencia antar periksa sangat juta cukup koh asal mana saja tki biasa nya bagaimana mau hak pilih libur cuma hari tengah tengah kami yang rantau jelas tidak omong kosong mudik otomatis golput mungkin kpu omong kosong timbang hari buat nyoblos depa bodoh manajemen madrid spanyol ganti latih dunia cangkir mulai hari rasa santai sekali sambil mendengarkan kalau suasana hati anda hari bagaimana tidak ada saya sih lingkar cahaya saudara idola palelu peang latih kecepetan narik rafinha icardi tapi peter parker luar angkasa tidak pakai tabung oksigen kenapa hidup dokter orang mau mediasi apa ngotot ngototan sih trm kasih admin sekarang baik lingkar cahaya parsel internet tidak omong kosong pakai padahal baru beli sudah registrasi lingkar cahaya parsel internet omong kosong perbarui twitter dan instagram padahal baru beli dan registrasi lingkar cahaya saudara admin kalau nobar biasa mana admin mau tanya kontak ici mataram tidak ntb fahri hamzah sangat puja puja wings air denpasar lombok yang nya brngkt jam wita tunda sampai dengan jam tunda lagi sampai dengan jam sudah seperti angkutan umum pergi tunggu penuh ambil mil tambah takut semoga antar makin motivasi mungkin sudah saat nya mangil ego simeone bola utd kemarin baru utama sekarang utama gila palacio mau nyelesein jual saham usaha asal mil icardi tukar isco asensiao tunggu buat rusuh ruang ganti baru jual jual icardi perisic sama brozovic kepriwe kuwe pastore cavani uang icardi tidak apa apa lah edin dzeko chelsea antar segel minimal posisi elek tapi blagu banyak gaya kenapa adegan hulusi lamar sabina tidak bang maju terus pantang mundur sekali raja naga jadi pahlawan luar biasa mil hasil tahan imbang benvenuto mobil setnov nabrak tiang yang penjara tiang nya sekali saja lama'}\n"
     ]
    }
   ],
   "source": [
    "print(d)"
   ]
  },
  {
   "cell_type": "code",
   "execution_count": 96,
   "id": "adfd867d",
   "metadata": {},
   "outputs": [
    {
     "name": "stdout",
     "output_type": "stream",
     "text": [
      "1\n"
     ]
    }
   ],
   "source": [
    "print(len(d))"
   ]
  },
  {
   "cell_type": "code",
   "execution_count": 88,
   "id": "f8b19681",
   "metadata": {},
   "outputs": [
    {
     "ename": "ValueError",
     "evalue": "Mixing dicts with non-Series may lead to ambiguous ordering.",
     "output_type": "error",
     "traceback": [
      "\u001b[1;31m---------------------------------------------------------------------------\u001b[0m",
      "\u001b[1;31mValueError\u001b[0m                                Traceback (most recent call last)",
      "\u001b[1;32m~\\AppData\\Local\\Temp\\ipykernel_19772\\862396827.py\u001b[0m in \u001b[0;36m<module>\u001b[1;34m\u001b[0m\n\u001b[1;32m----> 1\u001b[1;33m \u001b[0mdata\u001b[0m \u001b[1;33m=\u001b[0m \u001b[0mpd\u001b[0m\u001b[1;33m.\u001b[0m\u001b[0mDataFrame\u001b[0m\u001b[1;33m(\u001b[0m\u001b[1;33m{\u001b[0m\u001b[1;34m'username'\u001b[0m \u001b[1;33m:\u001b[0m \u001b[0musers\u001b[0m\u001b[1;33m,\u001b[0m \u001b[1;34m'tweets'\u001b[0m \u001b[1;33m:\u001b[0m \u001b[0md\u001b[0m\u001b[1;33m}\u001b[0m\u001b[1;33m)\u001b[0m\u001b[1;33m\u001b[0m\u001b[1;33m\u001b[0m\u001b[0m\n\u001b[0m",
      "\u001b[1;32mC:\\ProgramData\\Anaconda3\\lib\\site-packages\\pandas\\core\\frame.py\u001b[0m in \u001b[0;36m__init__\u001b[1;34m(self, data, index, columns, dtype, copy)\u001b[0m\n\u001b[0;32m    634\u001b[0m         \u001b[1;32melif\u001b[0m \u001b[0misinstance\u001b[0m\u001b[1;33m(\u001b[0m\u001b[0mdata\u001b[0m\u001b[1;33m,\u001b[0m \u001b[0mdict\u001b[0m\u001b[1;33m)\u001b[0m\u001b[1;33m:\u001b[0m\u001b[1;33m\u001b[0m\u001b[1;33m\u001b[0m\u001b[0m\n\u001b[0;32m    635\u001b[0m             \u001b[1;31m# GH#38939 de facto copy defaults to False only in non-dict cases\u001b[0m\u001b[1;33m\u001b[0m\u001b[1;33m\u001b[0m\u001b[0m\n\u001b[1;32m--> 636\u001b[1;33m             \u001b[0mmgr\u001b[0m \u001b[1;33m=\u001b[0m \u001b[0mdict_to_mgr\u001b[0m\u001b[1;33m(\u001b[0m\u001b[0mdata\u001b[0m\u001b[1;33m,\u001b[0m \u001b[0mindex\u001b[0m\u001b[1;33m,\u001b[0m \u001b[0mcolumns\u001b[0m\u001b[1;33m,\u001b[0m \u001b[0mdtype\u001b[0m\u001b[1;33m=\u001b[0m\u001b[0mdtype\u001b[0m\u001b[1;33m,\u001b[0m \u001b[0mcopy\u001b[0m\u001b[1;33m=\u001b[0m\u001b[0mcopy\u001b[0m\u001b[1;33m,\u001b[0m \u001b[0mtyp\u001b[0m\u001b[1;33m=\u001b[0m\u001b[0mmanager\u001b[0m\u001b[1;33m)\u001b[0m\u001b[1;33m\u001b[0m\u001b[1;33m\u001b[0m\u001b[0m\n\u001b[0m\u001b[0;32m    637\u001b[0m         \u001b[1;32melif\u001b[0m \u001b[0misinstance\u001b[0m\u001b[1;33m(\u001b[0m\u001b[0mdata\u001b[0m\u001b[1;33m,\u001b[0m \u001b[0mma\u001b[0m\u001b[1;33m.\u001b[0m\u001b[0mMaskedArray\u001b[0m\u001b[1;33m)\u001b[0m\u001b[1;33m:\u001b[0m\u001b[1;33m\u001b[0m\u001b[1;33m\u001b[0m\u001b[0m\n\u001b[0;32m    638\u001b[0m             \u001b[1;32mimport\u001b[0m \u001b[0mnumpy\u001b[0m\u001b[1;33m.\u001b[0m\u001b[0mma\u001b[0m\u001b[1;33m.\u001b[0m\u001b[0mmrecords\u001b[0m \u001b[1;32mas\u001b[0m \u001b[0mmrecords\u001b[0m\u001b[1;33m\u001b[0m\u001b[1;33m\u001b[0m\u001b[0m\n",
      "\u001b[1;32mC:\\ProgramData\\Anaconda3\\lib\\site-packages\\pandas\\core\\internals\\construction.py\u001b[0m in \u001b[0;36mdict_to_mgr\u001b[1;34m(data, index, columns, dtype, typ, copy)\u001b[0m\n\u001b[0;32m    500\u001b[0m         \u001b[1;31m# TODO: can we get rid of the dt64tz special case above?\u001b[0m\u001b[1;33m\u001b[0m\u001b[1;33m\u001b[0m\u001b[0m\n\u001b[0;32m    501\u001b[0m \u001b[1;33m\u001b[0m\u001b[0m\n\u001b[1;32m--> 502\u001b[1;33m     \u001b[1;32mreturn\u001b[0m \u001b[0marrays_to_mgr\u001b[0m\u001b[1;33m(\u001b[0m\u001b[0marrays\u001b[0m\u001b[1;33m,\u001b[0m \u001b[0mcolumns\u001b[0m\u001b[1;33m,\u001b[0m \u001b[0mindex\u001b[0m\u001b[1;33m,\u001b[0m \u001b[0mdtype\u001b[0m\u001b[1;33m=\u001b[0m\u001b[0mdtype\u001b[0m\u001b[1;33m,\u001b[0m \u001b[0mtyp\u001b[0m\u001b[1;33m=\u001b[0m\u001b[0mtyp\u001b[0m\u001b[1;33m,\u001b[0m \u001b[0mconsolidate\u001b[0m\u001b[1;33m=\u001b[0m\u001b[0mcopy\u001b[0m\u001b[1;33m)\u001b[0m\u001b[1;33m\u001b[0m\u001b[1;33m\u001b[0m\u001b[0m\n\u001b[0m\u001b[0;32m    503\u001b[0m \u001b[1;33m\u001b[0m\u001b[0m\n\u001b[0;32m    504\u001b[0m \u001b[1;33m\u001b[0m\u001b[0m\n",
      "\u001b[1;32mC:\\ProgramData\\Anaconda3\\lib\\site-packages\\pandas\\core\\internals\\construction.py\u001b[0m in \u001b[0;36marrays_to_mgr\u001b[1;34m(arrays, columns, index, dtype, verify_integrity, typ, consolidate)\u001b[0m\n\u001b[0;32m    118\u001b[0m         \u001b[1;31m# figure out the index, if necessary\u001b[0m\u001b[1;33m\u001b[0m\u001b[1;33m\u001b[0m\u001b[0m\n\u001b[0;32m    119\u001b[0m         \u001b[1;32mif\u001b[0m \u001b[0mindex\u001b[0m \u001b[1;32mis\u001b[0m \u001b[1;32mNone\u001b[0m\u001b[1;33m:\u001b[0m\u001b[1;33m\u001b[0m\u001b[1;33m\u001b[0m\u001b[0m\n\u001b[1;32m--> 120\u001b[1;33m             \u001b[0mindex\u001b[0m \u001b[1;33m=\u001b[0m \u001b[0m_extract_index\u001b[0m\u001b[1;33m(\u001b[0m\u001b[0marrays\u001b[0m\u001b[1;33m)\u001b[0m\u001b[1;33m\u001b[0m\u001b[1;33m\u001b[0m\u001b[0m\n\u001b[0m\u001b[0;32m    121\u001b[0m         \u001b[1;32melse\u001b[0m\u001b[1;33m:\u001b[0m\u001b[1;33m\u001b[0m\u001b[1;33m\u001b[0m\u001b[0m\n\u001b[0;32m    122\u001b[0m             \u001b[0mindex\u001b[0m \u001b[1;33m=\u001b[0m \u001b[0mensure_index\u001b[0m\u001b[1;33m(\u001b[0m\u001b[0mindex\u001b[0m\u001b[1;33m)\u001b[0m\u001b[1;33m\u001b[0m\u001b[1;33m\u001b[0m\u001b[0m\n",
      "\u001b[1;32mC:\\ProgramData\\Anaconda3\\lib\\site-packages\\pandas\\core\\internals\\construction.py\u001b[0m in \u001b[0;36m_extract_index\u001b[1;34m(data)\u001b[0m\n\u001b[0;32m    675\u001b[0m \u001b[1;33m\u001b[0m\u001b[0m\n\u001b[0;32m    676\u001b[0m             \u001b[1;32mif\u001b[0m \u001b[0mhave_dicts\u001b[0m\u001b[1;33m:\u001b[0m\u001b[1;33m\u001b[0m\u001b[1;33m\u001b[0m\u001b[0m\n\u001b[1;32m--> 677\u001b[1;33m                 raise ValueError(\n\u001b[0m\u001b[0;32m    678\u001b[0m                     \u001b[1;34m\"Mixing dicts with non-Series may lead to ambiguous ordering.\"\u001b[0m\u001b[1;33m\u001b[0m\u001b[1;33m\u001b[0m\u001b[0m\n\u001b[0;32m    679\u001b[0m                 )\n",
      "\u001b[1;31mValueError\u001b[0m: Mixing dicts with non-Series may lead to ambiguous ordering."
     ]
    }
   ],
   "source": [
    "data = pd.DataFrame({'username' : users, 'tweets' : d})"
   ]
  },
  {
   "cell_type": "code",
   "execution_count": 89,
   "id": "9552dc06",
   "metadata": {},
   "outputs": [
    {
     "data": {
      "text/html": [
       "<div>\n",
       "<style scoped>\n",
       "    .dataframe tbody tr th:only-of-type {\n",
       "        vertical-align: middle;\n",
       "    }\n",
       "\n",
       "    .dataframe tbody tr th {\n",
       "        vertical-align: top;\n",
       "    }\n",
       "\n",
       "    .dataframe thead th {\n",
       "        text-align: right;\n",
       "    }\n",
       "</style>\n",
       "<table border=\"1\" class=\"dataframe\">\n",
       "  <thead>\n",
       "    <tr style=\"text-align: right;\">\n",
       "      <th></th>\n",
       "      <th>0</th>\n",
       "      <th>1</th>\n",
       "    </tr>\n",
       "  </thead>\n",
       "  <tbody>\n",
       "    <tr>\n",
       "      <th>395</th>\n",
       "      <td>yulia_danche</td>\n",
       "      <td>kenapa banyak sekali sms tawar pinjam online p...</td>\n",
       "    </tr>\n",
       "    <tr>\n",
       "      <th>396</th>\n",
       "      <td>yuliawafa</td>\n",
       "      <td>kenapa banyak sekali sms tawar pinjam online p...</td>\n",
       "    </tr>\n",
       "    <tr>\n",
       "      <th>397</th>\n",
       "      <td>yusrinasmarani</td>\n",
       "      <td>kenapa banyak sekali sms tawar pinjam online p...</td>\n",
       "    </tr>\n",
       "    <tr>\n",
       "      <th>398</th>\n",
       "      <td>yuuta__96</td>\n",
       "      <td>kenapa banyak sekali sms tawar pinjam online p...</td>\n",
       "    </tr>\n",
       "    <tr>\n",
       "      <th>399</th>\n",
       "      <td>zea_mays07</td>\n",
       "      <td>kenapa banyak sekali sms tawar pinjam online p...</td>\n",
       "    </tr>\n",
       "  </tbody>\n",
       "</table>\n",
       "</div>"
      ],
      "text/plain": [
       "                  0                                                  1\n",
       "395    yulia_danche  kenapa banyak sekali sms tawar pinjam online p...\n",
       "396       yuliawafa  kenapa banyak sekali sms tawar pinjam online p...\n",
       "397  yusrinasmarani  kenapa banyak sekali sms tawar pinjam online p...\n",
       "398       yuuta__96  kenapa banyak sekali sms tawar pinjam online p...\n",
       "399      zea_mays07  kenapa banyak sekali sms tawar pinjam online p..."
      ]
     },
     "execution_count": 89,
     "metadata": {},
     "output_type": "execute_result"
    }
   ],
   "source": [
    "data.tail()\n"
   ]
  },
  {
   "cell_type": "code",
   "execution_count": 53,
   "id": "869f1cc3",
   "metadata": {},
   "outputs": [],
   "source": [
    "data = pd.DataFrame(list(map(list, zip(users,d))))"
   ]
  },
  {
   "cell_type": "code",
   "execution_count": 54,
   "id": "f2e272fb",
   "metadata": {},
   "outputs": [
    {
     "data": {
      "text/html": [
       "<div>\n",
       "<style scoped>\n",
       "    .dataframe tbody tr th:only-of-type {\n",
       "        vertical-align: middle;\n",
       "    }\n",
       "\n",
       "    .dataframe tbody tr th {\n",
       "        vertical-align: top;\n",
       "    }\n",
       "\n",
       "    .dataframe thead th {\n",
       "        text-align: right;\n",
       "    }\n",
       "</style>\n",
       "<table border=\"1\" class=\"dataframe\">\n",
       "  <thead>\n",
       "    <tr style=\"text-align: right;\">\n",
       "      <th></th>\n",
       "      <th>0</th>\n",
       "      <th>1</th>\n",
       "    </tr>\n",
       "  </thead>\n",
       "  <tbody>\n",
       "    <tr>\n",
       "      <th>395</th>\n",
       "      <td>yulia_danche</td>\n",
       "      <td>kenapa banyak sekali sms tawar pinjam online p...</td>\n",
       "    </tr>\n",
       "    <tr>\n",
       "      <th>396</th>\n",
       "      <td>yuliawafa</td>\n",
       "      <td>kenapa banyak sekali sms tawar pinjam online p...</td>\n",
       "    </tr>\n",
       "    <tr>\n",
       "      <th>397</th>\n",
       "      <td>yusrinasmarani</td>\n",
       "      <td>kenapa banyak sekali sms tawar pinjam online p...</td>\n",
       "    </tr>\n",
       "    <tr>\n",
       "      <th>398</th>\n",
       "      <td>yuuta__96</td>\n",
       "      <td>kenapa banyak sekali sms tawar pinjam online p...</td>\n",
       "    </tr>\n",
       "    <tr>\n",
       "      <th>399</th>\n",
       "      <td>zea_mays07</td>\n",
       "      <td>kenapa banyak sekali sms tawar pinjam online p...</td>\n",
       "    </tr>\n",
       "  </tbody>\n",
       "</table>\n",
       "</div>"
      ],
      "text/plain": [
       "                  0                                                  1\n",
       "395    yulia_danche  kenapa banyak sekali sms tawar pinjam online p...\n",
       "396       yuliawafa  kenapa banyak sekali sms tawar pinjam online p...\n",
       "397  yusrinasmarani  kenapa banyak sekali sms tawar pinjam online p...\n",
       "398       yuuta__96  kenapa banyak sekali sms tawar pinjam online p...\n",
       "399      zea_mays07  kenapa banyak sekali sms tawar pinjam online p..."
      ]
     },
     "execution_count": 54,
     "metadata": {},
     "output_type": "execute_result"
    }
   ],
   "source": [
    "data.tail()\n"
   ]
  },
  {
   "cell_type": "code",
   "execution_count": null,
   "id": "a5700eac",
   "metadata": {},
   "outputs": [],
   "source": []
  }
 ],
 "metadata": {
  "kernelspec": {
   "display_name": "Python 3 (ipykernel)",
   "language": "python",
   "name": "python3"
  },
  "language_info": {
   "codemirror_mode": {
    "name": "ipython",
    "version": 3
   },
   "file_extension": ".py",
   "mimetype": "text/x-python",
   "name": "python",
   "nbconvert_exporter": "python",
   "pygments_lexer": "ipython3",
   "version": "3.9.13"
  }
 },
 "nbformat": 4,
 "nbformat_minor": 5
}
