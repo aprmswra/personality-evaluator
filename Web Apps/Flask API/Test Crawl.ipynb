{
 "cells": [
  {
   "cell_type": "code",
   "execution_count": 1,
   "id": "28b483a1",
   "metadata": {},
   "outputs": [],
   "source": [
    "import tweepy\n",
    "import numpy as np\n",
    "import pandas as pd\n",
    "import datetime\n",
    "import pytz"
   ]
  },
  {
   "cell_type": "code",
   "execution_count": 2,
   "id": "ef18b6cc",
   "metadata": {},
   "outputs": [],
   "source": [
    "# consumer_key = \"0EWVmQYSBV9swiZxUKSXyXmel\" #Your API/Consumer key \n",
    "# consumer_secret = \"vHqqKvLoSSwcPmF1ryzMxbhYO0GqGqe6BTPfa1Q3K0qwvAVoUw\" #Your API/Consumer Secret Key\n",
    "# access_token = \"978638940-on0RJCmXAEUCiUw5uioUGKaGKSm4wpMN83W01Sbp\"    #Your Access token key\n",
    "# access_token_secret = \"wT7wAiMd5TBer1NIE5KSGHPANWjMYxWkBitlGQJsX5FdP\" #Your Access token Secret key\n",
    "# bearer_token = \"AAAAAAAAAAAAAAAAAAAAAB8omgEAAAAA2mVsfTgEY2d3NdHZeMNEHnx%2BHJ0%3DrpqCTFfg5mfIIP8VSIhFN2Cn4G70giXXM9nQU1pMXXSTZEgEfN\"\n",
    "\n",
    "# # # Authenticate with Twitter API\n",
    "# # auth = tweepy.OAuthHandler(consumer_key, consumer_secret)\n",
    "# # auth.set_access_token(access_token, access_token_secret)\n",
    "\n",
    "# # client = tweepy.Client(bearer_token=bearer_token,\n",
    "# #                        consumer_key=consumer_key,\n",
    "# #                        consumer_secret=consumer_secret,\n",
    "# #                        access_token=access_token,\n",
    "# #                        access_token_secret=access_token_secret,\n",
    "# #                        wait_on_rate_limit=True)\n",
    "\n",
    "# # user = client.get_user(username=\"farrelium\")\n",
    "\n",
    "\n",
    "# # # Create API object\n",
    "# # api = tweepy.API(auth)\n",
    "\n",
    "# # screen_name = 'farrelium'  # Replace with the username of the user whose tweets you want to retrieve\n",
    "# # tweet_count = 10  # Number of tweets to retrieve\n",
    "\n",
    "# # # Get user tweets\n",
    "# # tweets = api.user_timeline(screen_name=screen_name, count=tweet_count)\n",
    "\n",
    "# # # Extract tweet text\n",
    "# # for tweet in tweets:\n",
    "# #     print(tweet.text)"
   ]
  },
  {
   "cell_type": "code",
   "execution_count": 4,
   "id": "1f20cb7f",
   "metadata": {},
   "outputs": [],
   "source": [
    "consumer_key = \"0EWVmQYSBV9swiZxUKSXyXmel\" #Your API/Consumer key \n",
    "consumer_secret = \"vHqqKvLoSSwcPmF1ryzMxbhYO0GqGqe6BTPfa1Q3K0qwvAVoUw\" #Your API/Consumer Secret Key\n",
    "access_token = \"978638940-on0RJCmXAEUCiUw5uioUGKaGKSm4wpMN83W01Sbp\"    #Your Access token key\n",
    "access_token_secret = \"wT7wAiMd5TBer1NIE5KSGHPANWjMYxWkBitlGQJsX5FdP\" #Your Access token Secret key\n",
    "bearer_token = \"AAAAAAAAAAAAAAAAAAAAAB8omgEAAAAA2mVsfTgEY2d3NdHZeMNEHnx%2BHJ0%3DrpqCTFfg5mfIIP8VSIhFN2Cn4G70giXXM9nQU1pMXXSTZEgEfN\"\n",
    "\n",
    "# Pass in our twitter API authentication key\n",
    "auth = tweepy.OAuth1UserHandler(\n",
    "    consumer_key, consumer_secret,\n",
    "    access_token, access_token_secret\n",
    ")\n",
    "\n",
    "#Instantiate the tweepy API\n",
    "api = tweepy.API(auth, wait_on_rate_limit=True)"
   ]
  },
  {
   "cell_type": "code",
   "execution_count": 5,
   "id": "d0272cf8",
   "metadata": {},
   "outputs": [],
   "source": [
    "# Error handling\n",
    "# Expired token -> 401 Unauthorized\n",
    "# Wrong username -> 404 Not Found\n",
    "# Private account -> 401 Unauthorized\n",
    "# Have no tweets -> 666 No Tweets\n",
    "# Tweets < 20\n",
    "\n",
    "username = \"farrelium\"\n",
    "\n",
    "# Define tweets will be taken from 2 years from now\n",
    "utc = pytz.UTC\n",
    "endDate = datetime.datetime.now()\n",
    "startDate = endDate - datetime.timedelta(days=2*365)\n",
    "endDate = utc.localize(endDate) \n",
    "startDate = utc.localize(startDate)\n",
    "\n",
    "tweets = []\n",
    "\n",
    "try:\n",
    "    # The number of tweets we want to retrieved from the user in a specific period of time\n",
    "    temp_tweets = api.user_timeline(screen_name=username)\n",
    "    for tweet in temp_tweets:\n",
    "        if tweet.created_at < endDate and tweet.created_at > startDate:\n",
    "            tweets.append(tweet)\n",
    "    \n",
    "    if len(tweets) > 0:\n",
    "        while (temp_tweets[-1].created_at > startDate):\n",
    "            temp_tweets = api.user_timeline(screen_name=username, max_id = temp_tweets[-1].id)\n",
    "            for tweet in temp_tweets:\n",
    "                if tweet.created_at < endDate and tweet.created_at > startDate and len(tweets) < 40: # Max 200 tweets\n",
    "                    tweets.append(tweet)\n",
    "\n",
    "        #Pulling Some attributes from the tweet\n",
    "        #attributes_container = [[tweet.created_at,tweet.favorite_count,tweet.source,tweet.text] for tweet in tweets]\n",
    "        attributes_container = [[tweet.created_at,tweet.text] for tweet in tweets]\n",
    "\n",
    "        #Creation of column list to rename the columns in the dataframe\n",
    "        #columns = [\"Date Created\", \"Number of Likes\", \"Source of Tweet\", \"Tweet\"]\n",
    "        columns = [\"date_created\", \"tweet\"]\n",
    "\n",
    "        #Creation of Dataframe\n",
    "        crawl_df = pd.DataFrame(attributes_container, columns=columns)\n",
    "    else:\n",
    "        raise Exception(\"666 No Tweets\")\n",
    "except BaseException as e:\n",
    "    # Kalau error, return e (di flask)\n",
    "    print(str(e))"
   ]
  },
  {
   "cell_type": "code",
   "execution_count": null,
   "id": "af159e59",
   "metadata": {},
   "outputs": [],
   "source": []
  },
  {
   "cell_type": "code",
   "execution_count": 6,
   "id": "5c25d70c",
   "metadata": {},
   "outputs": [
    {
     "data": {
      "text/plain": [
       "'Sometimes shit happens.'"
      ]
     },
     "execution_count": 6,
     "metadata": {},
     "output_type": "execute_result"
    }
   ],
   "source": [
    "tweets[0].text"
   ]
  },
  {
   "cell_type": "code",
   "execution_count": 7,
   "id": "51602e25",
   "metadata": {},
   "outputs": [
    {
     "data": {
      "text/plain": [
       "[[datetime.datetime(2023, 4, 4, 13, 29, 44, tzinfo=datetime.timezone.utc),\n",
       "  'Sometimes shit happens.'],\n",
       " [datetime.datetime(2023, 4, 3, 14, 48, 16, tzinfo=datetime.timezone.utc),\n",
       "  'Coca cola is tasty 😂'],\n",
       " [datetime.datetime(2023, 4, 2, 20, 5, 33, tzinfo=datetime.timezone.utc),\n",
       "  '@ChelseaFC Leicester sama Tottenham lagi open slot tuh om Potter'],\n",
       " [datetime.datetime(2023, 4, 1, 17, 50, 1, tzinfo=datetime.timezone.utc),\n",
       "  'Potter ni apa ya'],\n",
       " [datetime.datetime(2023, 3, 30, 12, 34, 23, tzinfo=datetime.timezone.utc),\n",
       "  'Character developmentnya Canute sama Thorfinn nih kaya kebalikan ya, ga sabar liat mereka ketemu next ep 👀'],\n",
       " [datetime.datetime(2023, 3, 22, 16, 24, 18, tzinfo=datetime.timezone.utc),\n",
       "  'Ga expect ternyata Summer Strike sebagus inii'],\n",
       " [datetime.datetime(2023, 3, 18, 19, 51, 8, tzinfo=datetime.timezone.utc),\n",
       "  \"@DhruvrCFC @ConnCFC He can't even park a bus. The subs go the field with no clue\"],\n",
       " [datetime.datetime(2023, 3, 18, 19, 42, 32, tzinfo=datetime.timezone.utc),\n",
       "  'Chelsea jadi berasa timnas inggris versi lite #PotterOut'],\n",
       " [datetime.datetime(2023, 3, 18, 19, 40, 48, tzinfo=datetime.timezone.utc),\n",
       "  '@idextratime Andai potter orang russia'],\n",
       " [datetime.datetime(2023, 3, 18, 19, 38, 35, tzinfo=datetime.timezone.utc),\n",
       "  '@baangkucadangan @theflankerID Galler wajib main bang apapun kondisinya. RLC juga main jelek hari ini, sejak dia sa… https://t.co/ZZawvUVN0A'],\n",
       " [datetime.datetime(2023, 3, 16, 15, 55, 12, tzinfo=datetime.timezone.utc),\n",
       "  'Sejauh ini vocal dan rapnya bagus banget sih. Belum debut tapi skillnya udah bisa ngalahin most 4th gen gg'],\n",
       " [datetime.datetime(2023, 3, 16, 15, 53, 5, tzinfo=datetime.timezone.utc),\n",
       "  'Baemon is too talented to flop in kpop'],\n",
       " [datetime.datetime(2023, 3, 15, 23, 40, 2, tzinfo=datetime.timezone.utc),\n",
       "  'RT @pacmannai: Masih inget momen ini ketika final Piala Dunia?\\n\\nKalo kalian di posisi ini, kira2 nyetak goal atau tidak?\\n\\nNah, peluang ini…'],\n",
       " [datetime.datetime(2023, 3, 11, 17, 2, 51, tzinfo=datetime.timezone.utc),\n",
       "  'Tell me something funny: https://t.co/u72hnSJ0Dg'],\n",
       " [datetime.datetime(2023, 3, 10, 13, 4, 19, tzinfo=datetime.timezone.utc),\n",
       "  'Based on plot, kimi no na wa masih terlalu sulit buat dikalahin. Tenki no ko visualnya juga masih di atas suzume'],\n",
       " [datetime.datetime(2023, 3, 10, 13, 2, 37, tzinfo=datetime.timezone.utc),\n",
       "  'Tapi kayanya secara kualitas masih kalah sama kakak-kakaknya ya'],\n",
       " [datetime.datetime(2023, 3, 10, 12, 15, 15, tzinfo=datetime.timezone.utc),\n",
       "  'Suzume 9/10, soalnya -1 bae 🥺'],\n",
       " [datetime.datetime(2023, 3, 8, 15, 18, 23, tzinfo=datetime.timezone.utc),\n",
       "  'Guess this is a wakeup call to be a chad 🗿'],\n",
       " [datetime.datetime(2023, 3, 8, 15, 17, 40, tzinfo=datetime.timezone.utc),\n",
       "  'All these self-improvement videos start appearing out of nowhere'],\n",
       " [datetime.datetime(2023, 3, 7, 23, 11, 9, tzinfo=datetime.timezone.utc),\n",
       "  '😌 https://t.co/0zrWEFKzGc'],\n",
       " [datetime.datetime(2023, 3, 7, 23, 11, 9, tzinfo=datetime.timezone.utc),\n",
       "  '😌 https://t.co/0zrWEFKzGc'],\n",
       " [datetime.datetime(2023, 3, 5, 10, 57, 53, tzinfo=datetime.timezone.utc),\n",
       "  'RT @denicmarko: Me and my Udemy courses: https://t.co/DKG52KEWAL'],\n",
       " [datetime.datetime(2023, 3, 4, 16, 57, 45, tzinfo=datetime.timezone.utc),\n",
       "  'Ternyata bisa menang juga https://t.co/7mlG7WuUF1'],\n",
       " [datetime.datetime(2023, 3, 4, 6, 37, 46, tzinfo=datetime.timezone.utc),\n",
       "  '@idextratime @ChelseaFC Oma omaga yesso yessona'],\n",
       " [datetime.datetime(2023, 3, 1, 15, 52, 30, tzinfo=datetime.timezone.utc),\n",
       "  '@CFC_Janty 🗿🗿'],\n",
       " [datetime.datetime(2023, 2, 28, 7, 11, 28, tzinfo=datetime.timezone.utc),\n",
       "  '@ignatiajssica Gas terus j #nikahmuda'],\n",
       " [datetime.datetime(2023, 2, 22, 15, 27, 29, tzinfo=datetime.timezone.utc),\n",
       "  'Seketika sadar diri setelah tahu umur chiquita'],\n",
       " [datetime.datetime(2023, 2, 19, 1, 29, 15, tzinfo=datetime.timezone.utc),\n",
       "  'RT @xGPhilosophy: https://t.co/OOoH9YcTRL'],\n",
       " [datetime.datetime(2023, 2, 16, 1, 19, 56, tzinfo=datetime.timezone.utc),\n",
       "  '@bukupembaharu bismillah'],\n",
       " [datetime.datetime(2023, 1, 10, 13, 59, 55, tzinfo=datetime.timezone.utc),\n",
       "  'Nadine kedua deh, so-e juga lucu'],\n",
       " [datetime.datetime(2023, 1, 10, 13, 57, 42, tzinfo=datetime.timezone.utc),\n",
       "  'So-eun topped single inferno s2 in my book'],\n",
       " [datetime.datetime(2023, 1, 3, 9, 20, 7, tzinfo=datetime.timezone.utc),\n",
       "  '@falqiyusuf ashiapp, resolusi 2023 ya bang?'],\n",
       " [datetime.datetime(2023, 1, 3, 0, 19, 8, tzinfo=datetime.timezone.utc),\n",
       "  '@ignatiajssica Apalah yang ngga buat ko je'],\n",
       " [datetime.datetime(2023, 1, 2, 14, 55, 2, tzinfo=datetime.timezone.utc),\n",
       "  'Keren sih haerin nyanyi bisa kaya centil centil gitu ya pdhl orangnya kalemm'],\n",
       " [datetime.datetime(2023, 1, 1, 15, 31, 1, tzinfo=datetime.timezone.utc),\n",
       "  'Motivasi pertama 2023 https://t.co/qmYzWzdczf'],\n",
       " [datetime.datetime(2022, 12, 31, 16, 53, 40, tzinfo=datetime.timezone.utc),\n",
       "  '@ignatiajssica Yang dipilih pas poseku manyun wakk je je'],\n",
       " [datetime.datetime(2022, 12, 20, 15, 41, 15, tzinfo=datetime.timezone.utc),\n",
       "  '@anyafojawaku Waalaikumsalam, sukses terus keluarga ehealth'],\n",
       " [datetime.datetime(2022, 12, 20, 7, 39, 38, tzinfo=datetime.timezone.utc),\n",
       "  '@anyafojawaku Sungkem duluu ada master wkwk, itu lagu baru newjeans set judulnya \"ditto\"'],\n",
       " [datetime.datetime(2022, 12, 19, 17, 2, 1, tzinfo=datetime.timezone.utc),\n",
       "  'Suara hyein ternyata ada merdu-merdunyaa'],\n",
       " [datetime.datetime(2022, 12, 19, 16, 37, 12, tzinfo=datetime.timezone.utc),\n",
       "  'This \"johahandago\" part is so addictivee']]"
      ]
     },
     "execution_count": 7,
     "metadata": {},
     "output_type": "execute_result"
    }
   ],
   "source": [
    "attributes_container"
   ]
  },
  {
   "cell_type": "code",
   "execution_count": 8,
   "id": "be3828e2",
   "metadata": {},
   "outputs": [
    {
     "name": "stdout",
     "output_type": "stream",
     "text": [
      "<class 'pandas.core.frame.DataFrame'>\n",
      "RangeIndex: 40 entries, 0 to 39\n",
      "Data columns (total 2 columns):\n",
      " #   Column        Non-Null Count  Dtype              \n",
      "---  ------        --------------  -----              \n",
      " 0   date_created  40 non-null     datetime64[ns, UTC]\n",
      " 1   tweet         40 non-null     object             \n",
      "dtypes: datetime64[ns, UTC](1), object(1)\n",
      "memory usage: 768.0+ bytes\n"
     ]
    }
   ],
   "source": [
    "crawl_df.info()"
   ]
  },
  {
   "cell_type": "code",
   "execution_count": 9,
   "id": "26e43109",
   "metadata": {
    "scrolled": true
   },
   "outputs": [
    {
     "data": {
      "text/html": [
       "<div>\n",
       "<style scoped>\n",
       "    .dataframe tbody tr th:only-of-type {\n",
       "        vertical-align: middle;\n",
       "    }\n",
       "\n",
       "    .dataframe tbody tr th {\n",
       "        vertical-align: top;\n",
       "    }\n",
       "\n",
       "    .dataframe thead th {\n",
       "        text-align: right;\n",
       "    }\n",
       "</style>\n",
       "<table border=\"1\" class=\"dataframe\">\n",
       "  <thead>\n",
       "    <tr style=\"text-align: right;\">\n",
       "      <th></th>\n",
       "      <th>date_created</th>\n",
       "      <th>tweet</th>\n",
       "    </tr>\n",
       "  </thead>\n",
       "  <tbody>\n",
       "    <tr>\n",
       "      <th>35</th>\n",
       "      <td>2022-12-31 16:53:40+00:00</td>\n",
       "      <td>@ignatiajssica Yang dipilih pas poseku manyun ...</td>\n",
       "    </tr>\n",
       "    <tr>\n",
       "      <th>36</th>\n",
       "      <td>2022-12-20 15:41:15+00:00</td>\n",
       "      <td>@anyafojawaku Waalaikumsalam, sukses terus kel...</td>\n",
       "    </tr>\n",
       "    <tr>\n",
       "      <th>37</th>\n",
       "      <td>2022-12-20 07:39:38+00:00</td>\n",
       "      <td>@anyafojawaku Sungkem duluu ada master wkwk, i...</td>\n",
       "    </tr>\n",
       "    <tr>\n",
       "      <th>38</th>\n",
       "      <td>2022-12-19 17:02:01+00:00</td>\n",
       "      <td>Suara hyein ternyata ada merdu-merdunyaa</td>\n",
       "    </tr>\n",
       "    <tr>\n",
       "      <th>39</th>\n",
       "      <td>2022-12-19 16:37:12+00:00</td>\n",
       "      <td>This \"johahandago\" part is so addictivee</td>\n",
       "    </tr>\n",
       "  </tbody>\n",
       "</table>\n",
       "</div>"
      ],
      "text/plain": [
       "                date_created  \\\n",
       "35 2022-12-31 16:53:40+00:00   \n",
       "36 2022-12-20 15:41:15+00:00   \n",
       "37 2022-12-20 07:39:38+00:00   \n",
       "38 2022-12-19 17:02:01+00:00   \n",
       "39 2022-12-19 16:37:12+00:00   \n",
       "\n",
       "                                                tweet  \n",
       "35  @ignatiajssica Yang dipilih pas poseku manyun ...  \n",
       "36  @anyafojawaku Waalaikumsalam, sukses terus kel...  \n",
       "37  @anyafojawaku Sungkem duluu ada master wkwk, i...  \n",
       "38           Suara hyein ternyata ada merdu-merdunyaa  \n",
       "39           This \"johahandago\" part is so addictivee  "
      ]
     },
     "execution_count": 9,
     "metadata": {},
     "output_type": "execute_result"
    }
   ],
   "source": [
    "crawl_df.tail()"
   ]
  },
  {
   "cell_type": "code",
   "execution_count": 10,
   "id": "30e40285",
   "metadata": {},
   "outputs": [
    {
     "data": {
      "text/plain": [
       "40"
      ]
     },
     "execution_count": 10,
     "metadata": {},
     "output_type": "execute_result"
    }
   ],
   "source": [
    "len(crawl_df)"
   ]
  },
  {
   "cell_type": "code",
   "execution_count": 11,
   "id": "13e70f7b",
   "metadata": {},
   "outputs": [
    {
     "data": {
      "text/html": [
       "<div>\n",
       "<style scoped>\n",
       "    .dataframe tbody tr th:only-of-type {\n",
       "        vertical-align: middle;\n",
       "    }\n",
       "\n",
       "    .dataframe tbody tr th {\n",
       "        vertical-align: top;\n",
       "    }\n",
       "\n",
       "    .dataframe thead th {\n",
       "        text-align: right;\n",
       "    }\n",
       "</style>\n",
       "<table border=\"1\" class=\"dataframe\">\n",
       "  <thead>\n",
       "    <tr style=\"text-align: right;\">\n",
       "      <th></th>\n",
       "      <th>date_created</th>\n",
       "      <th>tweet</th>\n",
       "    </tr>\n",
       "  </thead>\n",
       "  <tbody>\n",
       "    <tr>\n",
       "      <th>31</th>\n",
       "      <td>2023-01-03 09:20:07+00:00</td>\n",
       "      <td>@falqiyusuf ashiapp, resolusi 2023 ya bang?</td>\n",
       "    </tr>\n",
       "    <tr>\n",
       "      <th>21</th>\n",
       "      <td>2023-03-05 10:57:53+00:00</td>\n",
       "      <td>RT @denicmarko: Me and my Udemy courses: https...</td>\n",
       "    </tr>\n",
       "    <tr>\n",
       "      <th>0</th>\n",
       "      <td>2023-04-04 13:29:44+00:00</td>\n",
       "      <td>Sometimes shit happens.</td>\n",
       "    </tr>\n",
       "    <tr>\n",
       "      <th>33</th>\n",
       "      <td>2023-01-02 14:55:02+00:00</td>\n",
       "      <td>Keren sih haerin nyanyi bisa kaya centil centi...</td>\n",
       "    </tr>\n",
       "    <tr>\n",
       "      <th>14</th>\n",
       "      <td>2023-03-10 13:04:19+00:00</td>\n",
       "      <td>Based on plot, kimi no na wa masih terlalu sul...</td>\n",
       "    </tr>\n",
       "    <tr>\n",
       "      <th>38</th>\n",
       "      <td>2022-12-19 17:02:01+00:00</td>\n",
       "      <td>Suara hyein ternyata ada merdu-merdunyaa</td>\n",
       "    </tr>\n",
       "    <tr>\n",
       "      <th>35</th>\n",
       "      <td>2022-12-31 16:53:40+00:00</td>\n",
       "      <td>@ignatiajssica Yang dipilih pas poseku manyun ...</td>\n",
       "    </tr>\n",
       "    <tr>\n",
       "      <th>20</th>\n",
       "      <td>2023-03-07 23:11:09+00:00</td>\n",
       "      <td>😌 https://t.co/0zrWEFKzGc</td>\n",
       "    </tr>\n",
       "    <tr>\n",
       "      <th>26</th>\n",
       "      <td>2023-02-22 15:27:29+00:00</td>\n",
       "      <td>Seketika sadar diri setelah tahu umur chiquita</td>\n",
       "    </tr>\n",
       "    <tr>\n",
       "      <th>37</th>\n",
       "      <td>2022-12-20 07:39:38+00:00</td>\n",
       "      <td>@anyafojawaku Sungkem duluu ada master wkwk, i...</td>\n",
       "    </tr>\n",
       "    <tr>\n",
       "      <th>16</th>\n",
       "      <td>2023-03-10 12:15:15+00:00</td>\n",
       "      <td>Suzume 9/10, soalnya -1 bae 🥺</td>\n",
       "    </tr>\n",
       "    <tr>\n",
       "      <th>17</th>\n",
       "      <td>2023-03-08 15:18:23+00:00</td>\n",
       "      <td>Guess this is a wakeup call to be a chad 🗿</td>\n",
       "    </tr>\n",
       "    <tr>\n",
       "      <th>30</th>\n",
       "      <td>2023-01-10 13:57:42+00:00</td>\n",
       "      <td>So-eun topped single inferno s2 in my book</td>\n",
       "    </tr>\n",
       "    <tr>\n",
       "      <th>1</th>\n",
       "      <td>2023-04-03 14:48:16+00:00</td>\n",
       "      <td>Coca cola is tasty 😂</td>\n",
       "    </tr>\n",
       "    <tr>\n",
       "      <th>29</th>\n",
       "      <td>2023-01-10 13:59:55+00:00</td>\n",
       "      <td>Nadine kedua deh, so-e juga lucu</td>\n",
       "    </tr>\n",
       "    <tr>\n",
       "      <th>24</th>\n",
       "      <td>2023-03-01 15:52:30+00:00</td>\n",
       "      <td>@CFC_Janty 🗿🗿</td>\n",
       "    </tr>\n",
       "    <tr>\n",
       "      <th>5</th>\n",
       "      <td>2023-03-22 16:24:18+00:00</td>\n",
       "      <td>Ga expect ternyata Summer Strike sebagus inii</td>\n",
       "    </tr>\n",
       "    <tr>\n",
       "      <th>28</th>\n",
       "      <td>2023-02-16 01:19:56+00:00</td>\n",
       "      <td>@bukupembaharu bismillah</td>\n",
       "    </tr>\n",
       "    <tr>\n",
       "      <th>4</th>\n",
       "      <td>2023-03-30 12:34:23+00:00</td>\n",
       "      <td>Character developmentnya Canute sama Thorfinn ...</td>\n",
       "    </tr>\n",
       "    <tr>\n",
       "      <th>8</th>\n",
       "      <td>2023-03-18 19:40:48+00:00</td>\n",
       "      <td>@idextratime Andai potter orang russia</td>\n",
       "    </tr>\n",
       "  </tbody>\n",
       "</table>\n",
       "</div>"
      ],
      "text/plain": [
       "                date_created  \\\n",
       "31 2023-01-03 09:20:07+00:00   \n",
       "21 2023-03-05 10:57:53+00:00   \n",
       "0  2023-04-04 13:29:44+00:00   \n",
       "33 2023-01-02 14:55:02+00:00   \n",
       "14 2023-03-10 13:04:19+00:00   \n",
       "38 2022-12-19 17:02:01+00:00   \n",
       "35 2022-12-31 16:53:40+00:00   \n",
       "20 2023-03-07 23:11:09+00:00   \n",
       "26 2023-02-22 15:27:29+00:00   \n",
       "37 2022-12-20 07:39:38+00:00   \n",
       "16 2023-03-10 12:15:15+00:00   \n",
       "17 2023-03-08 15:18:23+00:00   \n",
       "30 2023-01-10 13:57:42+00:00   \n",
       "1  2023-04-03 14:48:16+00:00   \n",
       "29 2023-01-10 13:59:55+00:00   \n",
       "24 2023-03-01 15:52:30+00:00   \n",
       "5  2023-03-22 16:24:18+00:00   \n",
       "28 2023-02-16 01:19:56+00:00   \n",
       "4  2023-03-30 12:34:23+00:00   \n",
       "8  2023-03-18 19:40:48+00:00   \n",
       "\n",
       "                                                tweet  \n",
       "31        @falqiyusuf ashiapp, resolusi 2023 ya bang?  \n",
       "21  RT @denicmarko: Me and my Udemy courses: https...  \n",
       "0                             Sometimes shit happens.  \n",
       "33  Keren sih haerin nyanyi bisa kaya centil centi...  \n",
       "14  Based on plot, kimi no na wa masih terlalu sul...  \n",
       "38           Suara hyein ternyata ada merdu-merdunyaa  \n",
       "35  @ignatiajssica Yang dipilih pas poseku manyun ...  \n",
       "20                          😌 https://t.co/0zrWEFKzGc  \n",
       "26     Seketika sadar diri setelah tahu umur chiquita  \n",
       "37  @anyafojawaku Sungkem duluu ada master wkwk, i...  \n",
       "16                      Suzume 9/10, soalnya -1 bae 🥺  \n",
       "17         Guess this is a wakeup call to be a chad 🗿  \n",
       "30         So-eun topped single inferno s2 in my book  \n",
       "1                                Coca cola is tasty 😂  \n",
       "29                   Nadine kedua deh, so-e juga lucu  \n",
       "24                                      @CFC_Janty 🗿🗿  \n",
       "5       Ga expect ternyata Summer Strike sebagus inii  \n",
       "28                           @bukupembaharu bismillah  \n",
       "4   Character developmentnya Canute sama Thorfinn ...  \n",
       "8              @idextratime Andai potter orang russia  "
      ]
     },
     "execution_count": 11,
     "metadata": {},
     "output_type": "execute_result"
    }
   ],
   "source": [
    "# Check if there's min 20 tweets\n",
    "if len(crawl_df) > 20:\n",
    "    sample_df = crawl_df.sample(n=20)\n",
    "else:\n",
    "    raise Exception(\"667 Tweets less than 20\")\n",
    "    sample_df = crawl_df.copy()\n",
    "    \n",
    "sample_df"
   ]
  },
  {
   "cell_type": "code",
   "execution_count": 38,
   "id": "d887924d",
   "metadata": {},
   "outputs": [
    {
     "data": {
      "text/plain": [
       "True"
      ]
     },
     "execution_count": 38,
     "metadata": {},
     "output_type": "execute_result"
    }
   ],
   "source": [
    "type(sample_df) == pd.DataFrame"
   ]
  },
  {
   "cell_type": "markdown",
   "id": "b44cbb54",
   "metadata": {},
   "source": [
    "## Preprocessing"
   ]
  },
  {
   "cell_type": "code",
   "execution_count": 12,
   "id": "c4fb18bf",
   "metadata": {},
   "outputs": [],
   "source": [
    "import re\n",
    "import preprocessor\n",
    "import nltk\n",
    "import goslate\n",
    "import enchant\n",
    "from googletrans import Translator\n",
    "from Sastrawi.Stemmer.StemmerFactory import StemmerFactory\n",
    "from Sastrawi.StopWordRemover.StopWordRemoverFactory import StopWordRemoverFactory\n",
    "\n",
    "en = enchant.Dict(\"en_US\")\n",
    "idn = []"
   ]
  },
  {
   "cell_type": "code",
   "execution_count": 13,
   "id": "117e40b1",
   "metadata": {},
   "outputs": [],
   "source": [
    "def casefolding(review):\n",
    "    review = review.lower()\n",
    "    return review\n",
    "\n",
    "def filtering(review):\n",
    "    review = re.sub(r'@[^\\s]+', '', review)  # @username\n",
    "    review = re.sub(r'#([^\\s]+)', '', review)  # hashtag\n",
    "    review = re.sub(r'https:[^\\s]+', '', review)  # URL links\n",
    "    review = re.sub(r\"[.,:;+!\\-_<^/=?\\\"'\\(\\)\\d\\*]\", \" \", review)  # symbol, char\n",
    "    review = re.sub(r'[^\\x00-\\x7f]+', '', review)  # non ASCII chars\n",
    "    review = re.sub(r'\\s+', ' ', review)  # duplicate whitespace\n",
    "    return preprocessor.clean(review)\n",
    "\n",
    "def tokenizing(review):\n",
    "    token = nltk.word_tokenize(review)\n",
    "    return token\n",
    "\n",
    "def stemming(review):\n",
    "    factorySt = StemmerFactory()\n",
    "    stemmer = factorySt.create_stemmer()\n",
    "    review = stemmer.stem(review)\n",
    "    return review\n",
    "\n",
    "def stopWordRemoving(review):\n",
    "    factorySw = StopWordRemoverFactory()\n",
    "    stopword = factorySw.create_stop_word_remover()\n",
    "    review = stopword.remove(review)\n",
    "    return review\n",
    "\n",
    "def slangWordConverting(review):\n",
    "    slangwords = dict()\n",
    "    with open('slangword-id.txt') as wordfile:\n",
    "        for word in wordfile:\n",
    "            word = word.split('=')\n",
    "            slangwords[word[0]] = word[1].replace('\\n', '')\n",
    "\n",
    "    wordsArray, fixed = review.split(' '), []\n",
    "    for word in wordsArray:\n",
    "        if word in slangwords:\n",
    "            word = slangwords[word]\n",
    "        fixed.append(word)\n",
    "        review = ' '.join(fixed)\n",
    "    return review\n",
    "\n",
    "def characterRepeating(review):\n",
    "    pattern = re.compile(r\"(.)\\1{1,}\", re.DOTALL)\n",
    "    tempWord = ''\n",
    "    for word in review.split(' '):\n",
    "        if word != '':\n",
    "            if en.check(word):\n",
    "                tempWord += word+' '\n",
    "            elif word in idn:\n",
    "                tempWord += word+' '\n",
    "            else:\n",
    "                tempWord += pattern.sub(r\"\\1\", word) + ' '\n",
    "    return tempWord\n",
    "\n",
    "\n",
    "def translating(review):\n",
    "    gs = goslate.Goslate()\n",
    "    translatedText = gs.translate(review, 'id')\n",
    "    return translatedText\n",
    "\n",
    "def translating2(review):\n",
    "    translator = Translator()\n",
    "    translations = translator.translate(review, dest='id')\n",
    "    return translations.text\n",
    "\n",
    "def preprocess_tweets(tweet):\n",
    "    tweet = filtering(str(tweet))\n",
    "    tweet = casefolding(str(tweet))\n",
    "    tweet = characterRepeating(str(tweet))\n",
    "    # tweet = translating(str(tweet))\n",
    "    tweet = stemming(str(tweet))\n",
    "    tweet = stopWordRemoving(str(tweet))\n",
    "    tweet = slangWordConverting(str(tweet))\n",
    "    # print('Processed: '+str(tweet) + '\\n')\n",
    "    return tweet"
   ]
  },
  {
   "cell_type": "code",
   "execution_count": 14,
   "id": "09390bbb",
   "metadata": {},
   "outputs": [],
   "source": [
    "sample_df['preprocessed'] = sample_df['tweet'].apply(preprocess_tweets)"
   ]
  },
  {
   "cell_type": "code",
   "execution_count": 15,
   "id": "b1c05f39",
   "metadata": {},
   "outputs": [
    {
     "data": {
      "text/plain": [
       "31                                 ashiap resolusi bang\n",
       "21                           saya dan saya udemy kursus\n",
       "0                                  kadang kotor happens\n",
       "33    keren sih haerin nyanyi seperti centil centil ...\n",
       "14    based nyala rencana kim tidak na whatsapp terl...\n",
       "38                        suara hyein nyata merdu merdu\n",
       "35                    pilih tidak pose manyun wak je je\n",
       "20                                                     \n",
       "26                        sadar diri tahu umur chiquita\n",
       "37    sungkem dulu kuasa tawa lagu baru newjeans set...\n",
       "16                                     suzume soal baik\n",
       "17    kira ini adalah sebuah wakeup panggil untuk ja...\n",
       "30        jadi eun topped tunggal neraka s in saya buku\n",
       "1                                coca cola adalah lezat\n",
       "29                            nadine deh jadi e humoris\n",
       "24                                                     \n",
       "5            tidak harap nyata musim panas serang bagus\n",
       "28                                            bismillah\n",
       "4     karakter developmentnya canute sama thorfin in...\n",
       "8                              andai potter orang rusia\n",
       "Name: preprocessed, dtype: object"
      ]
     },
     "execution_count": 15,
     "metadata": {},
     "output_type": "execute_result"
    }
   ],
   "source": [
    "sample_df['preprocessed']"
   ]
  },
  {
   "cell_type": "code",
   "execution_count": 16,
   "id": "09cb6c5a",
   "metadata": {},
   "outputs": [],
   "source": [
    "result_tweet = \" \".join(sample_df['preprocessed'])"
   ]
  },
  {
   "cell_type": "code",
   "execution_count": 17,
   "id": "13d63ed6",
   "metadata": {},
   "outputs": [
    {
     "data": {
      "text/html": [
       "<div>\n",
       "<style scoped>\n",
       "    .dataframe tbody tr th:only-of-type {\n",
       "        vertical-align: middle;\n",
       "    }\n",
       "\n",
       "    .dataframe tbody tr th {\n",
       "        vertical-align: top;\n",
       "    }\n",
       "\n",
       "    .dataframe thead th {\n",
       "        text-align: right;\n",
       "    }\n",
       "</style>\n",
       "<table border=\"1\" class=\"dataframe\">\n",
       "  <thead>\n",
       "    <tr style=\"text-align: right;\">\n",
       "      <th></th>\n",
       "      <th>username</th>\n",
       "      <th>tweet</th>\n",
       "    </tr>\n",
       "  </thead>\n",
       "  <tbody>\n",
       "    <tr>\n",
       "      <th>0</th>\n",
       "      <td>farrelium</td>\n",
       "      <td>ashiap resolusi bang saya dan saya udemy kursu...</td>\n",
       "    </tr>\n",
       "  </tbody>\n",
       "</table>\n",
       "</div>"
      ],
      "text/plain": [
       "    username                                              tweet\n",
       "0  farrelium  ashiap resolusi bang saya dan saya udemy kursu..."
      ]
     },
     "execution_count": 17,
     "metadata": {},
     "output_type": "execute_result"
    }
   ],
   "source": [
    "result_df = pd.DataFrame({\n",
    "    'username': [username],\n",
    "    'tweet': [result_tweet]\n",
    "})\n",
    "\n",
    "result_df"
   ]
  },
  {
   "cell_type": "markdown",
   "id": "cdb20059",
   "metadata": {},
   "source": [
    "## Inference"
   ]
  },
  {
   "cell_type": "code",
   "execution_count": 20,
   "id": "5ce010ab",
   "metadata": {},
   "outputs": [],
   "source": [
    "import joblib\n",
    "import pickle\n",
    "\n",
    "# Load tfidf\n",
    "# with open(\"../personality-evaluator/PPT-09/models/tfidf_2.pickle\", \"rb\") as file:\n",
    "#     tfidf = pickle.load(file)\n",
    "    \n",
    "# Load best model\n",
    "model = joblib.load(\"../../PPT-09/models/pipeline.joblib\")"
   ]
  },
  {
   "cell_type": "code",
   "execution_count": 21,
   "id": "74e7d3c7",
   "metadata": {},
   "outputs": [],
   "source": [
    "X = result_df['tweet']"
   ]
  },
  {
   "cell_type": "code",
   "execution_count": 22,
   "id": "211bebb5",
   "metadata": {},
   "outputs": [
    {
     "data": {
      "text/plain": [
       "0    ashiap resolusi bang saya dan saya udemy kursu...\n",
       "Name: tweet, dtype: object"
      ]
     },
     "execution_count": 22,
     "metadata": {},
     "output_type": "execute_result"
    }
   ],
   "source": [
    "X"
   ]
  },
  {
   "cell_type": "code",
   "execution_count": 23,
   "id": "70e533a3",
   "metadata": {},
   "outputs": [
    {
     "data": {
      "text/plain": [
       "array([[0.112, 0.088, 0.384, 0.344, 0.072]])"
      ]
     },
     "execution_count": 23,
     "metadata": {},
     "output_type": "execute_result"
    }
   ],
   "source": [
    "y_pred_proba = model.predict_proba(X)\n",
    "y_pred_proba"
   ]
  },
  {
   "cell_type": "code",
   "execution_count": 24,
   "id": "9889cb7a",
   "metadata": {},
   "outputs": [],
   "source": [
    "list_proba = y_pred_proba[0]\n",
    "list_class = [0, 1, 2, 3, 4]\n",
    "list_username = [username] * 5"
   ]
  },
  {
   "cell_type": "code",
   "execution_count": 25,
   "id": "58e10216",
   "metadata": {},
   "outputs": [
    {
     "data": {
      "text/html": [
       "<div>\n",
       "<style scoped>\n",
       "    .dataframe tbody tr th:only-of-type {\n",
       "        vertical-align: middle;\n",
       "    }\n",
       "\n",
       "    .dataframe tbody tr th {\n",
       "        vertical-align: top;\n",
       "    }\n",
       "\n",
       "    .dataframe thead th {\n",
       "        text-align: right;\n",
       "    }\n",
       "</style>\n",
       "<table border=\"1\" class=\"dataframe\">\n",
       "  <thead>\n",
       "    <tr style=\"text-align: right;\">\n",
       "      <th></th>\n",
       "      <th>user</th>\n",
       "      <th>class</th>\n",
       "      <th>proba_tweet</th>\n",
       "    </tr>\n",
       "  </thead>\n",
       "  <tbody>\n",
       "    <tr>\n",
       "      <th>0</th>\n",
       "      <td>farrelium</td>\n",
       "      <td>0</td>\n",
       "      <td>0.112</td>\n",
       "    </tr>\n",
       "    <tr>\n",
       "      <th>1</th>\n",
       "      <td>farrelium</td>\n",
       "      <td>1</td>\n",
       "      <td>0.088</td>\n",
       "    </tr>\n",
       "    <tr>\n",
       "      <th>2</th>\n",
       "      <td>farrelium</td>\n",
       "      <td>2</td>\n",
       "      <td>0.384</td>\n",
       "    </tr>\n",
       "    <tr>\n",
       "      <th>3</th>\n",
       "      <td>farrelium</td>\n",
       "      <td>3</td>\n",
       "      <td>0.344</td>\n",
       "    </tr>\n",
       "    <tr>\n",
       "      <th>4</th>\n",
       "      <td>farrelium</td>\n",
       "      <td>4</td>\n",
       "      <td>0.072</td>\n",
       "    </tr>\n",
       "  </tbody>\n",
       "</table>\n",
       "</div>"
      ],
      "text/plain": [
       "        user  class  proba_tweet\n",
       "0  farrelium      0        0.112\n",
       "1  farrelium      1        0.088\n",
       "2  farrelium      2        0.384\n",
       "3  farrelium      3        0.344\n",
       "4  farrelium      4        0.072"
      ]
     },
     "execution_count": 25,
     "metadata": {},
     "output_type": "execute_result"
    }
   ],
   "source": [
    "reshape_df = pd.DataFrame(list(zip(list_username, list_class, list_proba)),\n",
    "               columns =['user', 'class', 'proba_tweet'])\n",
    "reshape_df"
   ]
  },
  {
   "cell_type": "code",
   "execution_count": 26,
   "id": "7cbc3a4a",
   "metadata": {},
   "outputs": [
    {
     "data": {
      "text/plain": [
       "0.112"
      ]
     },
     "execution_count": 26,
     "metadata": {},
     "output_type": "execute_result"
    }
   ],
   "source": [
    "reshape_df.iloc[0]['proba_tweet']"
   ]
  },
  {
   "cell_type": "code",
   "execution_count": 27,
   "id": "73c74107",
   "metadata": {},
   "outputs": [
    {
     "data": {
      "text/html": [
       "<div>\n",
       "<style scoped>\n",
       "    .dataframe tbody tr th:only-of-type {\n",
       "        vertical-align: middle;\n",
       "    }\n",
       "\n",
       "    .dataframe tbody tr th {\n",
       "        vertical-align: top;\n",
       "    }\n",
       "\n",
       "    .dataframe thead th {\n",
       "        text-align: right;\n",
       "    }\n",
       "</style>\n",
       "<table border=\"1\" class=\"dataframe\">\n",
       "  <thead>\n",
       "    <tr style=\"text-align: right;\">\n",
       "      <th></th>\n",
       "      <th>user</th>\n",
       "      <th>class</th>\n",
       "      <th>proba_tweet</th>\n",
       "      <th>test_result</th>\n",
       "    </tr>\n",
       "  </thead>\n",
       "  <tbody>\n",
       "    <tr>\n",
       "      <th>0</th>\n",
       "      <td>farrelium</td>\n",
       "      <td>0</td>\n",
       "      <td>1.12</td>\n",
       "      <td>3.75</td>\n",
       "    </tr>\n",
       "    <tr>\n",
       "      <th>1</th>\n",
       "      <td>farrelium</td>\n",
       "      <td>1</td>\n",
       "      <td>0.88</td>\n",
       "      <td>2.22</td>\n",
       "    </tr>\n",
       "    <tr>\n",
       "      <th>2</th>\n",
       "      <td>farrelium</td>\n",
       "      <td>2</td>\n",
       "      <td>3.84</td>\n",
       "      <td>3.56</td>\n",
       "    </tr>\n",
       "    <tr>\n",
       "      <th>3</th>\n",
       "      <td>farrelium</td>\n",
       "      <td>3</td>\n",
       "      <td>3.44</td>\n",
       "      <td>5.00</td>\n",
       "    </tr>\n",
       "    <tr>\n",
       "      <th>4</th>\n",
       "      <td>farrelium</td>\n",
       "      <td>4</td>\n",
       "      <td>0.72</td>\n",
       "      <td>6.00</td>\n",
       "    </tr>\n",
       "  </tbody>\n",
       "</table>\n",
       "</div>"
      ],
      "text/plain": [
       "        user  class  proba_tweet  test_result\n",
       "0  farrelium      0         1.12         3.75\n",
       "1  farrelium      1         0.88         2.22\n",
       "2  farrelium      2         3.84         3.56\n",
       "3  farrelium      3         3.44         5.00\n",
       "4  farrelium      4         0.72         6.00"
      ]
     },
     "execution_count": 27,
     "metadata": {},
     "output_type": "execute_result"
    }
   ],
   "source": [
    "# Ecek-eceknya dapet data dari frontend berupa json\n",
    "request = {\n",
    "    'test_result': [3.75, 2.22, 3.56, 5.00, 6.0]\n",
    "}\n",
    "\n",
    "reshape_df['test_result'] = request['test_result']\n",
    "reshape_df['proba_tweet'] = reshape_df['proba_tweet'] * 10 # Normalisasi\n",
    "reshape_df"
   ]
  },
  {
   "cell_type": "code",
   "execution_count": 28,
   "id": "0dde3f9a",
   "metadata": {},
   "outputs": [],
   "source": [
    "reshape_df['inference'] = reshape_df['proba_tweet']*0.6 + reshape_df['test_result']*0.4"
   ]
  },
  {
   "cell_type": "code",
   "execution_count": 29,
   "id": "a2a33591",
   "metadata": {},
   "outputs": [
    {
     "data": {
      "text/html": [
       "<div>\n",
       "<style scoped>\n",
       "    .dataframe tbody tr th:only-of-type {\n",
       "        vertical-align: middle;\n",
       "    }\n",
       "\n",
       "    .dataframe tbody tr th {\n",
       "        vertical-align: top;\n",
       "    }\n",
       "\n",
       "    .dataframe thead th {\n",
       "        text-align: right;\n",
       "    }\n",
       "</style>\n",
       "<table border=\"1\" class=\"dataframe\">\n",
       "  <thead>\n",
       "    <tr style=\"text-align: right;\">\n",
       "      <th></th>\n",
       "      <th>user</th>\n",
       "      <th>class</th>\n",
       "      <th>proba_tweet</th>\n",
       "      <th>test_result</th>\n",
       "      <th>inference</th>\n",
       "    </tr>\n",
       "  </thead>\n",
       "  <tbody>\n",
       "    <tr>\n",
       "      <th>0</th>\n",
       "      <td>farrelium</td>\n",
       "      <td>0</td>\n",
       "      <td>1.12</td>\n",
       "      <td>3.75</td>\n",
       "      <td>2.172</td>\n",
       "    </tr>\n",
       "    <tr>\n",
       "      <th>1</th>\n",
       "      <td>farrelium</td>\n",
       "      <td>1</td>\n",
       "      <td>0.88</td>\n",
       "      <td>2.22</td>\n",
       "      <td>1.416</td>\n",
       "    </tr>\n",
       "    <tr>\n",
       "      <th>2</th>\n",
       "      <td>farrelium</td>\n",
       "      <td>2</td>\n",
       "      <td>3.84</td>\n",
       "      <td>3.56</td>\n",
       "      <td>3.728</td>\n",
       "    </tr>\n",
       "    <tr>\n",
       "      <th>3</th>\n",
       "      <td>farrelium</td>\n",
       "      <td>3</td>\n",
       "      <td>3.44</td>\n",
       "      <td>5.00</td>\n",
       "      <td>4.064</td>\n",
       "    </tr>\n",
       "    <tr>\n",
       "      <th>4</th>\n",
       "      <td>farrelium</td>\n",
       "      <td>4</td>\n",
       "      <td>0.72</td>\n",
       "      <td>6.00</td>\n",
       "      <td>2.832</td>\n",
       "    </tr>\n",
       "  </tbody>\n",
       "</table>\n",
       "</div>"
      ],
      "text/plain": [
       "        user  class  proba_tweet  test_result  inference\n",
       "0  farrelium      0         1.12         3.75      2.172\n",
       "1  farrelium      1         0.88         2.22      1.416\n",
       "2  farrelium      2         3.84         3.56      3.728\n",
       "3  farrelium      3         3.44         5.00      4.064\n",
       "4  farrelium      4         0.72         6.00      2.832"
      ]
     },
     "execution_count": 29,
     "metadata": {},
     "output_type": "execute_result"
    }
   ],
   "source": [
    "reshape_df.head()"
   ]
  },
  {
   "cell_type": "code",
   "execution_count": 30,
   "id": "bf34b0cb",
   "metadata": {},
   "outputs": [],
   "source": [
    "y = reshape_df['inference'].argmax()"
   ]
  },
  {
   "cell_type": "code",
   "execution_count": 31,
   "id": "b05e7268",
   "metadata": {},
   "outputs": [
    {
     "data": {
      "text/plain": [
       "user           farrelium\n",
       "class                  3\n",
       "proba_tweet         3.44\n",
       "test_result          5.0\n",
       "inference          4.064\n",
       "Name: 3, dtype: object"
      ]
     },
     "execution_count": 31,
     "metadata": {},
     "output_type": "execute_result"
    }
   ],
   "source": [
    "result = reshape_df.iloc[y]\n",
    "result"
   ]
  },
  {
   "cell_type": "code",
   "execution_count": 32,
   "id": "cf17c136",
   "metadata": {},
   "outputs": [
    {
     "data": {
      "text/plain": [
       "'Openness'"
      ]
     },
     "execution_count": 32,
     "metadata": {},
     "output_type": "execute_result"
    }
   ],
   "source": [
    "d = {\n",
    "     0:'Neuroticism',\n",
    "     1:'Agreeableness',\n",
    "     2:'Extraversion',\n",
    "     3:'Openness',\n",
    "     4:'Conscientiousness'\n",
    "}\n",
    "\n",
    "# Return class\n",
    "d[result['class']]"
   ]
  },
  {
   "cell_type": "markdown",
   "id": "0999f671",
   "metadata": {},
   "source": [
    "## Labeling BFI"
   ]
  },
  {
   "cell_type": "code",
   "execution_count": null,
   "id": "b1b58d03",
   "metadata": {},
   "outputs": [],
   "source": [
    "# OCEANnumber = {\n",
    "#     'Extraversion': [1, 6, 11, 16, 21, 26, 31, 36],\n",
    "#     'Agreeableness': [2, 7, 12, 17, 22, 27, 32, 37, 42],\n",
    "#     'Conscientiousness': [3, 8, 13, 18, 23, 28, 33, 38, 43],\n",
    "#     'Neuroticism': [4, 9, 14, 19, 24, 29, 34, 39],\n",
    "#     'Openness': [5, 10, 15, 20, 25, 30, 35, 40, 41, 44]\n",
    "# }\n",
    "\n",
    "# R = [6, 21, 31, 2, 12, 27, 37, 8, 18, 23, 43, 9, 24, 34, 35, 41]"
   ]
  },
  {
   "cell_type": "code",
   "execution_count": null,
   "id": "fc70ac83",
   "metadata": {},
   "outputs": [],
   "source": [
    "# OCEAN = {\n",
    "#         'Extraversion': 0,\n",
    "#         'Agreeableness': 0,\n",
    "#         'Conscientiousness': 0,\n",
    "#         'Neuroticism': 0,\n",
    "#         'Openness': 0\n",
    "#     }\n",
    "\n",
    "# bfi_form =  [\"h3llatrash\", 2, 4, 5, 5, 4, 4, 3, 2, 2, 4, 3, 3, 4, 4, 5, 3, 3, 4, 5, 5, 4, 2, 2, 3, 4, 4, 5, 4, 4, 5, 5, 1, 2, 3, 4, 2, 4, 4, 5, 5, 1, 3, 4, 4]"
   ]
  },
  {
   "cell_type": "code",
   "execution_count": null,
   "id": "156359bd",
   "metadata": {},
   "outputs": [],
   "source": [
    "# for nomer_soal in range(1, 45):\n",
    "#     if nomer_soal in OCEANnumber['Extraversion']:\n",
    "#             if int(bfi_form[nomer_soal]) > 3:\n",
    "#                 if nomer_soal not in R:\n",
    "#                     OCEAN['Extraversion'] += 1\n",
    "                    \n",
    "# for nomer_soal in range(1, 45):\n",
    "#     if nomer_soal in OCEANnumber['Agreeableness']:\n",
    "#             if int(bfi_form[nomer_soal]) > 3:\n",
    "#                 if nomer_soal not in R:\n",
    "#                     OCEAN['Agreeableness'] += 1\n",
    "                    \n",
    "# for nomer_soal in range(1, 45):\n",
    "#     if nomer_soal in OCEANnumber['Conscientiousness']:\n",
    "#             if int(bfi_form[nomer_soal]) > 3:\n",
    "#                 if nomer_soal not in R:\n",
    "#                     OCEAN['Conscientiousness'] += 1\n",
    "                    \n",
    "# for nomer_soal in range(1, 45):\n",
    "#     if nomer_soal in OCEANnumber['Neuroticism']:\n",
    "#             if int(bfi_form[nomer_soal]) > 3:\n",
    "#                 if nomer_soal not in R:\n",
    "#                     OCEAN['Neuroticism'] += 1\n",
    "                    \n",
    "# for nomer_soal in range(1, 45):\n",
    "#     if nomer_soal in OCEANnumber['Openness']:\n",
    "#             if int(bfi_form[nomer_soal]) > 3:\n",
    "#                 if nomer_soal not in R:\n",
    "#                     OCEAN['Openness'] += 1"
   ]
  },
  {
   "cell_type": "code",
   "execution_count": null,
   "id": "cbe6ea99",
   "metadata": {},
   "outputs": [],
   "source": [
    "# OCEAN"
   ]
  },
  {
   "cell_type": "code",
   "execution_count": null,
   "id": "442e0912",
   "metadata": {},
   "outputs": [],
   "source": [
    "# print(len(OCEANnumber['Extraversion']))\n",
    "# print(len(OCEANnumber['Agreeableness']))\n",
    "# print(len(OCEANnumber['Conscientiousness']))\n",
    "# print(len(OCEANnumber['Neuroticism']))\n",
    "# print(len(OCEANnumber['Openness']))"
   ]
  },
  {
   "cell_type": "code",
   "execution_count": null,
   "id": "9a9882cf",
   "metadata": {},
   "outputs": [],
   "source": [
    "# OCEAN['Extraversion'] /= len(OCEANnumber['Extraversion']) / 10\n",
    "# OCEAN['Agreeableness'] /= len(OCEANnumber['Agreeableness']) / 10\n",
    "# OCEAN['Conscientiousness'] /= len(OCEANnumber['Conscientiousness']) / 10\n",
    "# OCEAN['Neuroticism'] /= len(OCEANnumber['Neuroticism']) / 10\n",
    "# OCEAN['Openness'] /= len(OCEANnumber['Openness']) / 10\n",
    "\n",
    "# OCEAN['Extraversion'] = round(OCEAN['Extraversion'], 2)\n",
    "# OCEAN['Agreeableness'] = round(OCEAN['Agreeableness'], 2)\n",
    "# OCEAN['Conscientiousness'] = round(OCEAN['Conscientiousness'], 2)\n",
    "# OCEAN['Neuroticism'] = round(OCEAN['Neuroticism'], 2)\n",
    "# OCEAN['Openness'] = round(OCEAN['Openness'], 2)\n",
    "\n",
    "# OCEAN['Extraversion'] = str(OCEAN['Extraversion'])\n",
    "# OCEAN['Agreeableness'] = str(OCEAN['Agreeableness'])\n",
    "# OCEAN['Conscientiousness'] = str(OCEAN['Conscientiousness'])\n",
    "# OCEAN['Neuroticism'] = str(OCEAN['Neuroticism'])\n",
    "# OCEAN['Openness'] = str(OCEAN['Openness'])"
   ]
  },
  {
   "cell_type": "code",
   "execution_count": null,
   "id": "ed6fb3b9",
   "metadata": {},
   "outputs": [],
   "source": [
    "# OCEAN"
   ]
  },
  {
   "cell_type": "code",
   "execution_count": null,
   "id": "cba42ecb",
   "metadata": {},
   "outputs": [],
   "source": []
  }
 ],
 "metadata": {
  "kernelspec": {
   "display_name": "Python 3 (ipykernel)",
   "language": "python",
   "name": "python3"
  },
  "language_info": {
   "codemirror_mode": {
    "name": "ipython",
    "version": 3
   },
   "file_extension": ".py",
   "mimetype": "text/x-python",
   "name": "python",
   "nbconvert_exporter": "python",
   "pygments_lexer": "ipython3",
   "version": "3.9.12"
  }
 },
 "nbformat": 4,
 "nbformat_minor": 5
}
